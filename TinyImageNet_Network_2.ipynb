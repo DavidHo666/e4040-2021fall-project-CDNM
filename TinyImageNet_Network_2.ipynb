{
 "cells": [
  {
   "cell_type": "markdown",
   "metadata": {
    "colab_type": "text",
    "id": "view-in-github"
   },
   "source": [
    "<a href=\"https://colab.research.google.com/github/ZohebAbai/Tiny-ImageNet-Challenge/blob/master/TinyImageNet_Network_2.ipynb\" target=\"_parent\"><img src=\"https://colab.research.google.com/assets/colab-badge.svg\" alt=\"Open In Colab\"/></a>"
   ]
  },
  {
   "cell_type": "markdown",
   "metadata": {
    "colab_type": "text",
    "id": "Tyav-Kv4Cluk"
   },
   "source": [
    "# Installing libraries and Downloading Dataset"
   ]
  },
  {
   "cell_type": "code",
   "execution_count": 1,
   "metadata": {
    "colab": {
     "base_uri": "https://localhost:8080/",
     "height": 208
    },
    "colab_type": "code",
    "id": "JNaPivQDFCVu",
    "outputId": "4817e63f-6576-4221-e379-38e2e923b8eb"
   },
   "outputs": [
    {
     "name": "stdout",
     "output_type": "stream",
     "text": [
      "--2021-12-13 02:25:11--  http://cs231n.stanford.edu/tiny-imagenet-200.zip\n",
      "Resolving cs231n.stanford.edu (cs231n.stanford.edu)... 171.64.68.10\n",
      "Connecting to cs231n.stanford.edu (cs231n.stanford.edu)|171.64.68.10|:80... connected.\n",
      "HTTP request sent, awaiting response... 200 OK\n",
      "Length: 248100043 (237M) [application/zip]\n",
      "Saving to: ‘tiny-imagenet-200.zip’\n",
      "\n",
      "tiny-imagenet-200.z 100%[===================>] 236.61M  5.49MB/s    in 34s     \n",
      "\n",
      "2021-12-13 02:25:46 (6.90 MB/s) - ‘tiny-imagenet-200.zip’ saved [248100043/248100043]\n",
      "\n"
     ]
    }
   ],
   "source": [
    "## Download the dataset and unzip it \n",
    "!wget http://cs231n.stanford.edu/tiny-imagenet-200.zip"
   ]
  },
  {
   "cell_type": "code",
   "execution_count": null,
   "metadata": {
    "colab": {
     "base_uri": "https://localhost:8080/",
     "height": 34
    },
    "colab_type": "code",
    "id": "anb0832EAX1P",
    "outputId": "1eb5749b-3b2f-4adc-feb2-31c8bc909b91"
   },
   "outputs": [],
   "source": [
    "#Unzip data\n",
    "!unzip 'tiny-imagenet-200.zip'\n",
    "!ls"
   ]
  },
  {
   "cell_type": "code",
   "execution_count": 1,
   "metadata": {
    "colab": {},
    "colab_type": "code",
    "id": "g7LJSXVKAgPn"
   },
   "outputs": [],
   "source": [
    "# Importing important libraries\n",
    "import numpy as np\n",
    "import pandas as pd\n",
    "from tensorflow.keras.models import Model, Sequential\n",
    "from tensorflow.keras.layers import Dense, Dropout, Flatten, Input, AveragePooling2D, concatenate, Activation, GlobalAveragePooling2D\n",
    "from tensorflow.keras.layers import Conv2D, MaxPooling2D, BatchNormalization, SeparableConv2D\n",
    "from tensorflow.keras.optimizers import Adam, RMSprop, SGD\n",
    "from tensorflow.keras.layers import Reshape, Activation, Conv2D, Input, MaxPooling2D, BatchNormalization, Flatten, Dense, Lambda\n",
    "from tensorflow.keras.regularizers import l2\n",
    "from tensorflow.keras.preprocessing.image import ImageDataGenerator\n",
    "from tensorflow.keras.callbacks import ReduceLROnPlateau, ModelCheckpoint\n",
    "import imgaug as ia\n",
    "from imgaug import augmenters as iaa\n",
    "\n",
    "import tensorflow_addons as tfa\n",
    "\n",
    "# random seed\n",
    "np.random.seed(seed=101)\n",
    "ia.seed(101)\n",
    "\n",
    "# this part will prevent tensorflow to allocate all the avaliable GPU Memory\n",
    "# backend\n",
    "import tensorflow as tf\n",
    "\n",
    "# Don't pre-allocate memory; allocate as-needed\n",
    "#config = tf.ConfigProto()\n",
    "#config.gpu_options.allow_growth = True\n",
    "\n",
    "# Create a session with the above options specified.\n",
    "#k.tensorflow_backend.set_session(tf.Session(config=config))\n",
    "\n",
    "# input image dimensions\n",
    "img_height = 64\n",
    "img_width = 64\n",
    "channels = 3\n",
    "\n",
    "# Hyperparameters\n",
    "batch_size = 128\n",
    "num_classes = 200\n",
    "epochs = 24\n",
    "num_train = 100000\n",
    "num_validation = 10000"
   ]
  },
  {
   "cell_type": "code",
   "execution_count": 2,
   "metadata": {
    "colab": {
     "base_uri": "https://localhost:8080/",
     "height": 143
    },
    "colab_type": "code",
    "id": "Uk0y7CZXAqvq",
    "outputId": "95b7130c-4d06-46b2-d7e5-f50e65f711ea"
   },
   "outputs": [
    {
     "data": {
      "text/html": [
       "<div>\n",
       "<style scoped>\n",
       "    .dataframe tbody tr th:only-of-type {\n",
       "        vertical-align: middle;\n",
       "    }\n",
       "\n",
       "    .dataframe tbody tr th {\n",
       "        vertical-align: top;\n",
       "    }\n",
       "\n",
       "    .dataframe thead th {\n",
       "        text-align: right;\n",
       "    }\n",
       "</style>\n",
       "<table border=\"1\" class=\"dataframe\">\n",
       "  <thead>\n",
       "    <tr style=\"text-align: right;\">\n",
       "      <th></th>\n",
       "      <th>File</th>\n",
       "      <th>Class</th>\n",
       "    </tr>\n",
       "  </thead>\n",
       "  <tbody>\n",
       "    <tr>\n",
       "      <th>0</th>\n",
       "      <td>val_0.JPEG</td>\n",
       "      <td>n03444034</td>\n",
       "    </tr>\n",
       "    <tr>\n",
       "      <th>1</th>\n",
       "      <td>val_1.JPEG</td>\n",
       "      <td>n04067472</td>\n",
       "    </tr>\n",
       "    <tr>\n",
       "      <th>2</th>\n",
       "      <td>val_2.JPEG</td>\n",
       "      <td>n04070727</td>\n",
       "    </tr>\n",
       "  </tbody>\n",
       "</table>\n",
       "</div>"
      ],
      "text/plain": [
       "         File      Class\n",
       "0  val_0.JPEG  n03444034\n",
       "1  val_1.JPEG  n04067472\n",
       "2  val_2.JPEG  n04070727"
      ]
     },
     "execution_count": 2,
     "metadata": {},
     "output_type": "execute_result"
    }
   ],
   "source": [
    "#Load validation data\n",
    "import numpy as np\n",
    "import pandas as pd\n",
    "val_data = pd.read_csv('./tiny-imagenet-200/val/val_annotations.txt', sep='\\t', header=None, \n",
    "                       names=['File', 'Class', 'X', 'Y', 'H', 'W'])\n",
    "val_data.drop(['X', 'Y', 'H', 'W'], axis=1, inplace=True)\n",
    "val_data.head(3)"
   ]
  },
  {
   "cell_type": "markdown",
   "metadata": {
    "colab_type": "text",
    "id": "IfwTLY9ZCt6p"
   },
   "source": [
    "# Image Augmentation"
   ]
  },
  {
   "cell_type": "code",
   "execution_count": 3,
   "metadata": {
    "colab": {},
    "colab_type": "code",
    "id": "DrMP7ZvMAt0q"
   },
   "outputs": [],
   "source": [
    "# Defining Customized Imagedatagenerator using imgaug library\n",
    "def CustomImageDataGen(input_img):\n",
    "  # Sometimes(0.5, ...) applies the given augmenter in 50% of all cases,\n",
    "  # e.g. Sometimes(0.5, GaussianBlur(0.3)) would blur roughly every second\n",
    "  # image.\n",
    "  sometimes = lambda aug: iaa.Sometimes(0.5, aug)\n",
    "  \n",
    "  seq = iaa.Sequential([\n",
    "      iaa.Fliplr(0.5), # horizontal flips\n",
    "      iaa.Flipud(0.2), # vertical flips\n",
    "      \n",
    "      # Small gaussian blur with random sigma between 0 and 0.5.\n",
    "      # But we only blur about 50% of all images.\n",
    "      sometimes(iaa.GaussianBlur(sigma=(0, 2.0))),\n",
    "      \n",
    "      # crop images by -10% to 20% of their height/width\n",
    "      sometimes(iaa.CropAndPad(\n",
    "          percent=(-0.1, 0.2),\n",
    "          pad_mode=ia.ALL,\n",
    "          pad_cval=(0, 255)\n",
    "        )),\n",
    "      \n",
    "      # Apply affine transformations to some of the images\n",
    "      # - scale to 80-120% of image height/width (each axis independently)\n",
    "      # - translate by -20 to +20 relative to height/width (per axis)\n",
    "      # - rotate by -45 to +45 degrees\n",
    "      # - shear by -16 to +16 degrees\n",
    "      # - order: use nearest neighbour or bilinear interpolation (fast)\n",
    "      # - mode: use any available mode to fill newly created pixels\n",
    "      #         see API or scikit-image for which modes are available\n",
    "      # - cval: if the mode is constant, then use a random brightness\n",
    "      #         for the newly created pixels (e.g. sometimes black,\n",
    "      #         sometimes white)\n",
    "      sometimes(iaa.Affine(\n",
    "          scale={\"x\": (0.8, 1.5), \"y\": (0.8, 1.5)},\n",
    "          translate_percent={\"x\": (-0.2, 0.2), \"y\": (-0.2, 0.2)},\n",
    "          rotate=(-45, 45),\n",
    "          shear=(-16, 16),\n",
    "          order=[0, 1],\n",
    "          cval=(0, 255),\n",
    "          mode=ia.ALL\n",
    "      )),\n",
    "      \n",
    "      #drop 2-5% percent of the original size, leading to large dropped\n",
    "      # rectangles.\n",
    "      sometimes(iaa.CoarseDropout(\n",
    "                        (0.03, 0.15), size_percent=(0.02, 0.05),\n",
    "                        per_channel=0.2\n",
    "                    )),\n",
    "                \n",
    "      # Make some images brighter and some darker.\n",
    "      # In 20% of all cases, we sample the multiplier once per channel,\n",
    "      # which can end up changing the color of the images.\n",
    "      sometimes(iaa.Multiply((0.8, 1.2), per_channel=0.2)),\n",
    "      \n",
    "      #Improve or worsen the contrast of images.\n",
    "      #Comment it out after third model run (extreme saturation)\n",
    "      sometimes(iaa.ContrastNormalization((0.75, 1.5), per_channel=0.5)), \n",
    "     ],\n",
    "     # do all of the above augmentations in random order\n",
    "     random_order = True) # apply augmenters in random order\n",
    "  \n",
    "  output_img = seq.augment_image(input_img)\n",
    "  return output_img\n",
    "\n",
    "train_datagen = ImageDataGenerator(rescale=1/255., preprocessing_function = CustomImageDataGen)\n",
    "valid_datagen = ImageDataGenerator(rescale=1/255.)"
   ]
  },
  {
   "cell_type": "code",
   "execution_count": 4,
   "metadata": {
    "colab": {
     "base_uri": "https://localhost:8080/",
     "height": 34
    },
    "colab_type": "code",
    "id": "QC4UyaJYAxxx",
    "outputId": "98c2d91d-8da6-4cba-9e69-8f17697aa681"
   },
   "outputs": [
    {
     "name": "stdout",
     "output_type": "stream",
     "text": [
      "Found 100000 images belonging to 200 classes.\n"
     ]
    }
   ],
   "source": [
    "#Generate training data\n",
    "train_generator = train_datagen.flow_from_directory( r'./tiny-imagenet-200/train/', \n",
    "                                                    target_size=(img_width, img_height), \n",
    "                                                    batch_size=batch_size, \n",
    "                                                    class_mode='categorical', \n",
    "                                                    shuffle=True, seed=101)"
   ]
  },
  {
   "cell_type": "code",
   "execution_count": 5,
   "metadata": {
    "colab": {
     "base_uri": "https://localhost:8080/",
     "height": 34
    },
    "colab_type": "code",
    "id": "GDaw-gK8Az-l",
    "outputId": "2b135115-47dd-4c1c-d260-2f98411200de"
   },
   "outputs": [
    {
     "name": "stdout",
     "output_type": "stream",
     "text": [
      "Found 10000 validated image filenames belonging to 200 classes.\n"
     ]
    }
   ],
   "source": [
    "#Generate validation data\n",
    "validation_generator = valid_datagen.flow_from_dataframe(val_data, directory='./tiny-imagenet-200/val/images/', \n",
    "                                                         x_col='File', y_col='Class', \n",
    "                                                         target_size=(img_width, img_height),\n",
    "                                                         class_mode='categorical', \n",
    "                                                         batch_size=batch_size, \n",
    "                                                         shuffle=False, seed=101)"
   ]
  },
  {
   "cell_type": "markdown",
   "metadata": {
    "colab_type": "text",
    "id": "2cfpTiutDDBt"
   },
   "source": [
    "# Model Building and Compilation"
   ]
  },
  {
   "cell_type": "markdown",
   "metadata": {
    "colab_type": "text",
    "id": "8c2YkRpjDFlQ"
   },
   "source": [
    "### Below is the custom Resnet Model, where architecture is inspired from Wide-Resnet and Resnet-18 keras models. As required for the project followings have not been used :\n",
    "1. 1x1 for an increasing number of channels\n",
    "2. dropout\n",
    "3. fully connected layers\n",
    "4. test dataset for training\n",
    "5. pre-trained model/weights\n",
    "6. someone else's code "
   ]
  },
  {
   "cell_type": "markdown",
   "metadata": {
    "colab_type": "text",
    "id": "WyewaBesA8RA"
   },
   "source": [
    "### Note : For running the new model after 8 hours, don't run beyond this, as the saved model contains model architecture, weights and optimizer."
   ]
  },
  {
   "cell_type": "code",
   "execution_count": 8,
   "metadata": {
    "colab": {
     "base_uri": "https://localhost:8080/",
     "height": 89
    },
    "colab_type": "code",
    "id": "DJ4fm3yibgcS",
    "outputId": "36dc985d-ad3f-4ed0-f46c-93044c9d158d"
   },
   "outputs": [],
   "source": [
    "# Model building\n",
    "input = Input(shape=(img_height, img_width, channels))\n",
    "\n",
    "# Block 1\n",
    "layer0 = Conv2D(32, (3,3), padding='same', kernel_initializer=\"VarianceScaling\",kernel_regularizer=l2(2e-4))(input)\n",
    "layer0 = BatchNormalization()(layer0)\n",
    "layer0 = Activation('relu')(layer0)\n",
    "\n",
    "skip_connection_1 = layer0\n",
    "\n",
    "# Block 2\n",
    "\n",
    "layer1 = Conv2D(128, (3,3), padding='same', kernel_initializer=\"VarianceScaling\",kernel_regularizer=l2(2e-4))(layer0)\n",
    "layer1 = BatchNormalization()(layer1)\n",
    "layer1 = Activation('relu')(layer1)\n",
    "\n",
    "layer2 = Conv2D(128, (3,3), padding='same', kernel_initializer=\"VarianceScaling\",kernel_regularizer=l2(2e-4))(layer1)\n",
    "layer2 = BatchNormalization()(layer2)\n",
    "layer2 = Activation('relu')(layer2)\n",
    "\n",
    "layer3 = Conv2D(128, (3,3), padding='same', kernel_initializer=\"VarianceScaling\",kernel_regularizer=l2(2e-4))(layer2)\n",
    "layer3 = BatchNormalization()(layer3)\n",
    "layer3 = Activation('relu')(layer3)\n",
    "\n",
    "layer4 = Conv2D(128, (3,3), padding='same', kernel_initializer=\"VarianceScaling\",kernel_regularizer=l2(2e-4))(layer3)\n",
    "layer4 = BatchNormalization()(layer4)\n",
    "layer4 = Activation('relu')(layer4)\n",
    "\n",
    "layer5 = concatenate([skip_connection_1, layer4])\n",
    "layer5 = BatchNormalization()(layer5)\n",
    "layer5 = Activation('relu')(layer5)\n",
    "layer5 = MaxPooling2D(pool_size=(2, 2))(layer5)\n",
    "\n",
    "skip_connection_2 = layer5\n",
    "\n",
    "# Block 3\n",
    "\n",
    "layer6 = Conv2D(256, (3,3), padding='same', kernel_initializer=\"VarianceScaling\",kernel_regularizer=l2(2e-4))(layer5)\n",
    "layer6 = BatchNormalization()(layer6)\n",
    "layer6 = Activation('relu')(layer6)\n",
    "\n",
    "layer7 = Conv2D(256, (3,3), padding='same', kernel_initializer=\"VarianceScaling\",kernel_regularizer=l2(2e-4))(layer6)\n",
    "layer7 = BatchNormalization()(layer7)\n",
    "layer7 = Activation('relu')(layer7)\n",
    "\n",
    "layer8 = Conv2D(256, (3,3), padding='same', kernel_initializer=\"VarianceScaling\",kernel_regularizer=l2(2e-4))(layer7)\n",
    "layer8 = BatchNormalization()(layer8)\n",
    "layer8 = Activation('relu')(layer8)\n",
    "\n",
    "layer9 = Conv2D(256, (3,3), padding='same', kernel_initializer=\"VarianceScaling\",kernel_regularizer=l2(2e-4))(layer8)\n",
    "layer9 = BatchNormalization()(layer9)\n",
    "layer9 = Activation('relu')(layer9)\n",
    "\n",
    "layer10 = concatenate([skip_connection_2, layer9])\n",
    "layer10 = BatchNormalization()(layer10)\n",
    "layer10 = Activation('relu')(layer10)\n",
    "layer10 = MaxPooling2D(pool_size=(2, 2))(layer10)\n",
    "\n",
    "skip_connection_3 = layer10\n",
    "\n",
    "\n",
    "# Block 4\n",
    "\n",
    "layer11 = Conv2D(512, (3,3), padding='same', kernel_initializer=\"VarianceScaling\",kernel_regularizer=l2(2e-4))(layer10)\n",
    "layer11 = BatchNormalization()(layer11)\n",
    "layer11 = Activation('relu')(layer11)\n",
    "\n",
    "layer12 = Conv2D(512, (3,3), padding='same', kernel_initializer=\"VarianceScaling\",kernel_regularizer=l2(2e-4))(layer11)\n",
    "layer12 = BatchNormalization()(layer12)\n",
    "layer12 = Activation('relu')(layer12)\n",
    "\n",
    "layer13 = Conv2D(512, (3,3), padding='same',kernel_initializer=\"VarianceScaling\",kernel_regularizer=l2(2e-4))(layer12)\n",
    "layer13 = BatchNormalization()(layer13)\n",
    "layer13 = Activation('relu')(layer13)\n",
    "\n",
    "layer14 = Conv2D(512, (3,3), padding='same',kernel_initializer=\"VarianceScaling\",kernel_regularizer=l2(2e-4))(layer13)\n",
    "layer14 = BatchNormalization()(layer14)\n",
    "layer14 = Activation('relu')(layer14)\n",
    "\n",
    "layer15 = concatenate([skip_connection_3, layer14])\n",
    "layer15 = BatchNormalization()(layer15)\n",
    "layer15 = Activation('relu')(layer15)\n",
    "layer15 = MaxPooling2D(pool_size=(2, 2))(layer15)\n",
    "\n",
    "\n",
    "#Layer 16\n",
    "layer16 = Conv2D(num_classes, (1,1), padding='same',kernel_initializer=\"VarianceScaling\",kernel_regularizer=l2(2e-4))(layer15)\n",
    "layer16 = GlobalAveragePooling2D()(layer16)\n",
    "\n",
    "#Output Layer\n",
    "output = Activation('softmax')(layer16)"
   ]
  },
  {
   "cell_type": "code",
   "execution_count": 9,
   "metadata": {
    "colab": {
     "base_uri": "https://localhost:8080/",
     "height": 2101
    },
    "colab_type": "code",
    "id": "3og9TJvCblde",
    "outputId": "cc7490b1-29d4-4a21-ff1e-1bc276f12f9d"
   },
   "outputs": [
    {
     "name": "stdout",
     "output_type": "stream",
     "text": [
      "Model: \"model\"\n",
      "__________________________________________________________________________________________________\n",
      "Layer (type)                    Output Shape         Param #     Connected to                     \n",
      "==================================================================================================\n",
      "input_1 (InputLayer)            [(None, 64, 64, 3)]  0                                            \n",
      "__________________________________________________________________________________________________\n",
      "conv2d (Conv2D)                 (None, 64, 64, 32)   896         input_1[0][0]                    \n",
      "__________________________________________________________________________________________________\n",
      "batch_normalization (BatchNorma (None, 64, 64, 32)   128         conv2d[0][0]                     \n",
      "__________________________________________________________________________________________________\n",
      "activation (Activation)         (None, 64, 64, 32)   0           batch_normalization[0][0]        \n",
      "__________________________________________________________________________________________________\n",
      "conv2d_1 (Conv2D)               (None, 64, 64, 128)  36992       activation[0][0]                 \n",
      "__________________________________________________________________________________________________\n",
      "batch_normalization_1 (BatchNor (None, 64, 64, 128)  512         conv2d_1[0][0]                   \n",
      "__________________________________________________________________________________________________\n",
      "activation_1 (Activation)       (None, 64, 64, 128)  0           batch_normalization_1[0][0]      \n",
      "__________________________________________________________________________________________________\n",
      "conv2d_2 (Conv2D)               (None, 64, 64, 128)  147584      activation_1[0][0]               \n",
      "__________________________________________________________________________________________________\n",
      "batch_normalization_2 (BatchNor (None, 64, 64, 128)  512         conv2d_2[0][0]                   \n",
      "__________________________________________________________________________________________________\n",
      "activation_2 (Activation)       (None, 64, 64, 128)  0           batch_normalization_2[0][0]      \n",
      "__________________________________________________________________________________________________\n",
      "conv2d_3 (Conv2D)               (None, 64, 64, 128)  147584      activation_2[0][0]               \n",
      "__________________________________________________________________________________________________\n",
      "batch_normalization_3 (BatchNor (None, 64, 64, 128)  512         conv2d_3[0][0]                   \n",
      "__________________________________________________________________________________________________\n",
      "activation_3 (Activation)       (None, 64, 64, 128)  0           batch_normalization_3[0][0]      \n",
      "__________________________________________________________________________________________________\n",
      "conv2d_4 (Conv2D)               (None, 64, 64, 128)  147584      activation_3[0][0]               \n",
      "__________________________________________________________________________________________________\n",
      "batch_normalization_4 (BatchNor (None, 64, 64, 128)  512         conv2d_4[0][0]                   \n",
      "__________________________________________________________________________________________________\n",
      "activation_4 (Activation)       (None, 64, 64, 128)  0           batch_normalization_4[0][0]      \n",
      "__________________________________________________________________________________________________\n",
      "concatenate (Concatenate)       (None, 64, 64, 160)  0           activation[0][0]                 \n",
      "                                                                 activation_4[0][0]               \n",
      "__________________________________________________________________________________________________\n",
      "batch_normalization_5 (BatchNor (None, 64, 64, 160)  640         concatenate[0][0]                \n",
      "__________________________________________________________________________________________________\n",
      "activation_5 (Activation)       (None, 64, 64, 160)  0           batch_normalization_5[0][0]      \n",
      "__________________________________________________________________________________________________\n",
      "max_pooling2d (MaxPooling2D)    (None, 32, 32, 160)  0           activation_5[0][0]               \n",
      "__________________________________________________________________________________________________\n",
      "conv2d_5 (Conv2D)               (None, 32, 32, 256)  368896      max_pooling2d[0][0]              \n",
      "__________________________________________________________________________________________________\n",
      "batch_normalization_6 (BatchNor (None, 32, 32, 256)  1024        conv2d_5[0][0]                   \n",
      "__________________________________________________________________________________________________\n",
      "activation_6 (Activation)       (None, 32, 32, 256)  0           batch_normalization_6[0][0]      \n",
      "__________________________________________________________________________________________________\n",
      "conv2d_6 (Conv2D)               (None, 32, 32, 256)  590080      activation_6[0][0]               \n",
      "__________________________________________________________________________________________________\n",
      "batch_normalization_7 (BatchNor (None, 32, 32, 256)  1024        conv2d_6[0][0]                   \n",
      "__________________________________________________________________________________________________\n",
      "activation_7 (Activation)       (None, 32, 32, 256)  0           batch_normalization_7[0][0]      \n",
      "__________________________________________________________________________________________________\n",
      "conv2d_7 (Conv2D)               (None, 32, 32, 256)  590080      activation_7[0][0]               \n",
      "__________________________________________________________________________________________________\n",
      "batch_normalization_8 (BatchNor (None, 32, 32, 256)  1024        conv2d_7[0][0]                   \n",
      "__________________________________________________________________________________________________\n",
      "activation_8 (Activation)       (None, 32, 32, 256)  0           batch_normalization_8[0][0]      \n",
      "__________________________________________________________________________________________________\n",
      "conv2d_8 (Conv2D)               (None, 32, 32, 256)  590080      activation_8[0][0]               \n",
      "__________________________________________________________________________________________________\n",
      "batch_normalization_9 (BatchNor (None, 32, 32, 256)  1024        conv2d_8[0][0]                   \n",
      "__________________________________________________________________________________________________\n",
      "activation_9 (Activation)       (None, 32, 32, 256)  0           batch_normalization_9[0][0]      \n",
      "__________________________________________________________________________________________________\n",
      "concatenate_1 (Concatenate)     (None, 32, 32, 416)  0           max_pooling2d[0][0]              \n",
      "                                                                 activation_9[0][0]               \n",
      "__________________________________________________________________________________________________\n",
      "batch_normalization_10 (BatchNo (None, 32, 32, 416)  1664        concatenate_1[0][0]              \n",
      "__________________________________________________________________________________________________\n",
      "activation_10 (Activation)      (None, 32, 32, 416)  0           batch_normalization_10[0][0]     \n",
      "__________________________________________________________________________________________________\n",
      "max_pooling2d_1 (MaxPooling2D)  (None, 16, 16, 416)  0           activation_10[0][0]              \n",
      "__________________________________________________________________________________________________\n",
      "conv2d_9 (Conv2D)               (None, 16, 16, 512)  1917440     max_pooling2d_1[0][0]            \n",
      "__________________________________________________________________________________________________\n",
      "batch_normalization_11 (BatchNo (None, 16, 16, 512)  2048        conv2d_9[0][0]                   \n",
      "__________________________________________________________________________________________________\n",
      "activation_11 (Activation)      (None, 16, 16, 512)  0           batch_normalization_11[0][0]     \n",
      "__________________________________________________________________________________________________\n",
      "conv2d_10 (Conv2D)              (None, 16, 16, 512)  2359808     activation_11[0][0]              \n",
      "__________________________________________________________________________________________________\n",
      "batch_normalization_12 (BatchNo (None, 16, 16, 512)  2048        conv2d_10[0][0]                  \n",
      "__________________________________________________________________________________________________\n",
      "activation_12 (Activation)      (None, 16, 16, 512)  0           batch_normalization_12[0][0]     \n",
      "__________________________________________________________________________________________________\n",
      "conv2d_11 (Conv2D)              (None, 16, 16, 512)  2359808     activation_12[0][0]              \n",
      "__________________________________________________________________________________________________\n",
      "batch_normalization_13 (BatchNo (None, 16, 16, 512)  2048        conv2d_11[0][0]                  \n",
      "__________________________________________________________________________________________________\n",
      "activation_13 (Activation)      (None, 16, 16, 512)  0           batch_normalization_13[0][0]     \n",
      "__________________________________________________________________________________________________\n",
      "conv2d_12 (Conv2D)              (None, 16, 16, 512)  2359808     activation_13[0][0]              \n",
      "__________________________________________________________________________________________________\n",
      "batch_normalization_14 (BatchNo (None, 16, 16, 512)  2048        conv2d_12[0][0]                  \n",
      "__________________________________________________________________________________________________\n",
      "activation_14 (Activation)      (None, 16, 16, 512)  0           batch_normalization_14[0][0]     \n",
      "__________________________________________________________________________________________________\n",
      "concatenate_2 (Concatenate)     (None, 16, 16, 928)  0           max_pooling2d_1[0][0]            \n",
      "                                                                 activation_14[0][0]              \n",
      "__________________________________________________________________________________________________\n",
      "batch_normalization_15 (BatchNo (None, 16, 16, 928)  3712        concatenate_2[0][0]              \n",
      "__________________________________________________________________________________________________\n",
      "activation_15 (Activation)      (None, 16, 16, 928)  0           batch_normalization_15[0][0]     \n",
      "__________________________________________________________________________________________________\n",
      "max_pooling2d_2 (MaxPooling2D)  (None, 8, 8, 928)    0           activation_15[0][0]              \n",
      "__________________________________________________________________________________________________\n",
      "conv2d_13 (Conv2D)              (None, 8, 8, 200)    185800      max_pooling2d_2[0][0]            \n",
      "__________________________________________________________________________________________________\n",
      "global_average_pooling2d (Globa (None, 200)          0           conv2d_13[0][0]                  \n",
      "__________________________________________________________________________________________________\n",
      "activation_16 (Activation)      (None, 200)          0           global_average_pooling2d[0][0]   \n",
      "==================================================================================================\n",
      "Total params: 11,822,920\n",
      "Trainable params: 11,812,680\n",
      "Non-trainable params: 10,240\n",
      "__________________________________________________________________________________________________\n"
     ]
    }
   ],
   "source": [
    "# Model Summary\n",
    "model = Model(inputs=[input], outputs=[output])\n",
    "model.summary()"
   ]
  },
  {
   "cell_type": "markdown",
   "metadata": {},
   "source": [
    "### First training round with base_lr=1e-4 and max_lr=6r-4 "
   ]
  },
  {
   "cell_type": "code",
   "execution_count": 11,
   "metadata": {
    "scrolled": false
   },
   "outputs": [
    {
     "name": "stderr",
     "output_type": "stream",
     "text": [
      "/home/ecbm4040/envTF24/lib/python3.6/site-packages/tensorflow/python/keras/engine/training.py:1844: UserWarning: `Model.fit_generator` is deprecated and will be removed in a future version. Please use `Model.fit`, which supports generators.\n",
      "  warnings.warn('`Model.fit_generator` is deprecated and '\n",
      "/home/ecbm4040/envTF24/lib/python3.6/site-packages/imgaug/imgaug.py:184: DeprecationWarning: Function `ContrastNormalization()` is deprecated. Use `imgaug.contrast.LinearContrast` instead.\n",
      "  warn_deprecated(msg, stacklevel=3)\n"
     ]
    },
    {
     "name": "stdout",
     "output_type": "stream",
     "text": [
      "Epoch 1/24\n",
      "781/781 [==============================] - 595s 745ms/step - loss: 5.7519 - accuracy: 0.0370 - val_loss: 5.0693 - val_accuracy: 0.0945\n",
      "\n",
      "Epoch 00001: val_accuracy improved from -inf to 0.09445, saving model to ./Model/model1.hdf5\n",
      "Epoch 2/24\n",
      "781/781 [==============================] - 580s 742ms/step - loss: 5.0261 - accuracy: 0.1005 - val_loss: 4.5056 - val_accuracy: 0.1621\n",
      "\n",
      "Epoch 00002: val_accuracy improved from 0.09445 to 0.16206, saving model to ./Model/model1.hdf5\n",
      "Epoch 3/24\n",
      "781/781 [==============================] - 580s 742ms/step - loss: 4.6658 - accuracy: 0.1417 - val_loss: 4.4878 - val_accuracy: 0.1649\n",
      "\n",
      "Epoch 00003: val_accuracy improved from 0.16206 to 0.16486, saving model to ./Model/model1.hdf5\n",
      "Epoch 4/24\n",
      "781/781 [==============================] - 580s 742ms/step - loss: 4.3956 - accuracy: 0.1814 - val_loss: 3.9489 - val_accuracy: 0.2415\n",
      "\n",
      "Epoch 00004: val_accuracy improved from 0.16486 to 0.24149, saving model to ./Model/model1.hdf5\n",
      "Epoch 5/24\n",
      "781/781 [==============================] - 580s 742ms/step - loss: 4.1882 - accuracy: 0.2105 - val_loss: 3.8146 - val_accuracy: 0.2629\n",
      "\n",
      "Epoch 00005: val_accuracy improved from 0.24149 to 0.26292, saving model to ./Model/model1.hdf5\n",
      "Epoch 6/24\n",
      "781/781 [==============================] - 582s 744ms/step - loss: 4.0223 - accuracy: 0.2332 - val_loss: 3.9167 - val_accuracy: 0.2588\n",
      "\n",
      "Epoch 00006: val_accuracy did not improve from 0.26292\n",
      "Epoch 7/24\n",
      "781/781 [==============================] - 580s 743ms/step - loss: 3.8819 - accuracy: 0.2594 - val_loss: 3.9102 - val_accuracy: 0.2580\n",
      "\n",
      "Epoch 00007: val_accuracy did not improve from 0.26292\n",
      "Epoch 8/24\n",
      "781/781 [==============================] - 580s 742ms/step - loss: 3.7780 - accuracy: 0.2785 - val_loss: 3.4391 - val_accuracy: 0.3381\n",
      "\n",
      "Epoch 00008: val_accuracy improved from 0.26292 to 0.33814, saving model to ./Model/model1.hdf5\n",
      "Epoch 9/24\n",
      "781/781 [==============================] - 580s 743ms/step - loss: 3.6885 - accuracy: 0.2946 - val_loss: 3.8869 - val_accuracy: 0.2808\n",
      "\n",
      "Epoch 00009: val_accuracy did not improve from 0.33814\n",
      "Epoch 10/24\n",
      "781/781 [==============================] - 581s 743ms/step - loss: 3.6107 - accuracy: 0.3076 - val_loss: 3.6764 - val_accuracy: 0.3103\n",
      "\n",
      "Epoch 00010: val_accuracy did not improve from 0.33814\n",
      "Epoch 11/24\n",
      "781/781 [==============================] - 581s 743ms/step - loss: 3.5427 - accuracy: 0.3238 - val_loss: 3.3622 - val_accuracy: 0.3476\n",
      "\n",
      "Epoch 00011: val_accuracy improved from 0.33814 to 0.34756, saving model to ./Model/model1.hdf5\n",
      "Epoch 12/24\n",
      "781/781 [==============================] - 580s 742ms/step - loss: 3.4796 - accuracy: 0.3365 - val_loss: 3.2407 - val_accuracy: 0.3697\n",
      "\n",
      "Epoch 00012: val_accuracy improved from 0.34756 to 0.36969, saving model to ./Model/model1.hdf5\n",
      "Epoch 13/24\n",
      "781/781 [==============================] - 585s 748ms/step - loss: 3.4306 - accuracy: 0.3497 - val_loss: 3.3108 - val_accuracy: 0.3717\n",
      "\n",
      "Epoch 00013: val_accuracy improved from 0.36969 to 0.37169, saving model to ./Model/model1.hdf5\n",
      "Epoch 14/24\n",
      "781/781 [==============================] - 579s 741ms/step - loss: 3.3858 - accuracy: 0.3577 - val_loss: 3.4178 - val_accuracy: 0.3519\n",
      "\n",
      "Epoch 00014: val_accuracy did not improve from 0.37169\n",
      "Epoch 15/24\n",
      "781/781 [==============================] - 580s 742ms/step - loss: 3.3469 - accuracy: 0.3677 - val_loss: 3.1184 - val_accuracy: 0.4127\n",
      "\n",
      "Epoch 00015: val_accuracy improved from 0.37169 to 0.41266, saving model to ./Model/model1.hdf5\n",
      "Epoch 16/24\n",
      "781/781 [==============================] - 579s 741ms/step - loss: 3.3119 - accuracy: 0.3786 - val_loss: 3.2060 - val_accuracy: 0.4031\n",
      "\n",
      "Epoch 00016: val_accuracy did not improve from 0.41266\n",
      "Epoch 17/24\n",
      "781/781 [==============================] - 579s 741ms/step - loss: 3.2777 - accuracy: 0.3852 - val_loss: 3.2407 - val_accuracy: 0.4010\n",
      "\n",
      "Epoch 00017: val_accuracy did not improve from 0.41266\n",
      "Epoch 18/24\n",
      "781/781 [==============================] - 581s 744ms/step - loss: 3.2456 - accuracy: 0.3977 - val_loss: 3.1528 - val_accuracy: 0.4155\n",
      "\n",
      "Epoch 00018: val_accuracy improved from 0.41266 to 0.41546, saving model to ./Model/model1.hdf5\n",
      "Epoch 19/24\n",
      "781/781 [==============================] - 578s 740ms/step - loss: 3.2305 - accuracy: 0.4045 - val_loss: 3.0741 - val_accuracy: 0.4283\n",
      "\n",
      "Epoch 00019: val_accuracy improved from 0.41546 to 0.42829, saving model to ./Model/model1.hdf5\n",
      "Epoch 20/24\n",
      "781/781 [==============================] - 579s 741ms/step - loss: 3.2029 - accuracy: 0.4114 - val_loss: 3.2432 - val_accuracy: 0.4090\n",
      "\n",
      "Epoch 00020: val_accuracy did not improve from 0.42829\n",
      "Epoch 21/24\n",
      "781/781 [==============================] - 579s 741ms/step - loss: 3.1822 - accuracy: 0.4192 - val_loss: 3.1069 - val_accuracy: 0.4448\n",
      "\n",
      "Epoch 00021: val_accuracy improved from 0.42829 to 0.44481, saving model to ./Model/model1.hdf5\n",
      "Epoch 22/24\n",
      "781/781 [==============================] - 579s 741ms/step - loss: 3.1828 - accuracy: 0.4222 - val_loss: 3.1095 - val_accuracy: 0.4403\n",
      "\n",
      "Epoch 00022: val_accuracy did not improve from 0.44481\n",
      "Epoch 23/24\n",
      "781/781 [==============================] - 578s 740ms/step - loss: 3.1823 - accuracy: 0.4290 - val_loss: 3.0674 - val_accuracy: 0.4597\n",
      "\n",
      "Epoch 00023: val_accuracy improved from 0.44481 to 0.45974, saving model to ./Model/model1.hdf5\n",
      "Epoch 24/24\n",
      "781/781 [==============================] - 579s 741ms/step - loss: 3.1695 - accuracy: 0.4393 - val_loss: 3.8436 - val_accuracy: 0.3577\n",
      "\n",
      "Epoch 00024: val_accuracy did not improve from 0.45974\n"
     ]
    }
   ],
   "source": [
    "# Callbacks\n",
    "import tensorflow_addons as tfa\n",
    "\n",
    "steps_per_epoch= num_train // batch_size\n",
    "clr = tfa.optimizers.CyclicalLearningRate(initial_learning_rate=0.0001, maximal_learning_rate=0.0006,\n",
    "                                          scale_fn=lambda x: 1/(2.**(x-1)), step_size=6 * steps_per_epoch) #Cyclic learning rate\n",
    "scheduler = tf.keras.callbacks.LearningRateScheduler(clr)\n",
    "\n",
    "checkpointer = ModelCheckpoint(filepath=\"./Model/model1.hdf5\", verbose=1, save_best_only=True, monitor=\"val_accuracy\")\n",
    "\n",
    "# Compile the Model\n",
    "model.compile(loss='categorical_crossentropy',\n",
    "              optimizer= RMSprop(lr= 0.0001, epsilon=1e-08),\n",
    "              #optimizer= Adam(lr= 0.0001, epsilon=1e-08),\n",
    "              #optimizer = SGD(momentum=0.9),\n",
    "              metrics=['accuracy'])\n",
    "\n",
    "# Fit the model in the first round with base_lr=1e-4 and max_lr=6r-4\n",
    "history = model.fit_generator(train_generator,\n",
    "                    epochs=24,\n",
    "                    steps_per_epoch= num_train // batch_size,\n",
    "                    validation_steps= num_validation // batch_size,\n",
    "                    validation_data=validation_generator,\n",
    "                    verbose=1, callbacks=[scheduler,checkpointer]\n",
    "                   )"
   ]
  },
  {
   "cell_type": "code",
   "execution_count": 14,
   "metadata": {},
   "outputs": [
    {
     "data": {
      "text/plain": [
       "<matplotlib.legend.Legend at 0x7f45a830cc50>"
      ]
     },
     "execution_count": 14,
     "metadata": {},
     "output_type": "execute_result"
    },
    {
     "data": {
      "image/png": "[encoded data removed]",
      "text/plain": [
       "<Figure size 720x576 with 2 Axes>"
      ]
     },
     "metadata": {
      "needs_background": "light"
     },
     "output_type": "display_data"
    }
   ],
   "source": [
    "#Plot the loss and accuracy\n",
    "import matplotlib.pyplot as plt\n",
    "(fig, ax) = plt.subplots(2, 1, figsize=(10, 8))\n",
    "\n",
    "ax[0].plot(history.history[\"loss\"], label=\"train_loss\")\n",
    "ax[0].plot(history.history[\"val_loss\"], label=\"val_loss\")\n",
    "ax[0].legend()\n",
    "ax[1].plot(history.history[\"accuracy\"], label= \"train_accuracy\")\n",
    "ax[1].plot(history.history[\"val_accuracy\"], label=\"val_accuracy\")\n",
    "ax[1].legend()"
   ]
  },
  {
   "cell_type": "markdown",
   "metadata": {},
   "source": [
    "### In the first round, the max validation accuracy is 45.97%"
   ]
  },
  {
   "cell_type": "code",
   "execution_count": 24,
   "metadata": {},
   "outputs": [],
   "source": [
    "#Save the training history\n",
    "pd.DataFrame(history.history).to_csv('./history/history_model1.csv')"
   ]
  },
  {
   "cell_type": "markdown",
   "metadata": {
    "colab_type": "text",
    "id": "eLxYOfqGDYgw"
   },
   "source": [
    "### Second round with base_lr=1e-05 and max_lr=6e-05"
   ]
  },
  {
   "cell_type": "code",
   "execution_count": 4,
   "metadata": {
    "colab": {
     "base_uri": "https://localhost:8080/",
     "height": 141
    },
    "colab_type": "code",
    "id": "JliA0PxJb6qj",
    "outputId": "30ba5def-99d8-4845-f162-978f083a70d6"
   },
   "outputs": [],
   "source": [
    "# load the model\n",
    "from tensorflow.keras.models import load_model\n",
    "new_model = load_model(\"./Model/model1.hdf5\")"
   ]
  },
  {
   "cell_type": "code",
   "execution_count": 8,
   "metadata": {
    "colab": {
     "base_uri": "https://localhost:8080/",
     "height": 1702
    },
    "colab_type": "code",
    "id": "d_uwpycYcLDA",
    "outputId": "c8557e9f-14e0-4c3a-ca01-d3aab20f6a02"
   },
   "outputs": [
    {
     "name": "stderr",
     "output_type": "stream",
     "text": [
      "/home/ecbm4040/envTF24/lib/python3.6/site-packages/imgaug/imgaug.py:184: DeprecationWarning: Function `ContrastNormalization()` is deprecated. Use `imgaug.contrast.LinearContrast` instead.\n",
      "  warn_deprecated(msg, stacklevel=3)\n"
     ]
    },
    {
     "name": "stdout",
     "output_type": "stream",
     "text": [
      "Epoch 1/24\n",
      "781/781 [==============================] - 655s 808ms/step - loss: 2.9526 - accuracy: 0.4817 - val_loss: 2.6181 - val_accuracy: 0.5544\n",
      "\n",
      "Epoch 00001: val_accuracy improved from -inf to 0.55439, saving model to ./Model/model2.hdf5\n",
      "Epoch 2/24\n",
      "781/781 [==============================] - 628s 804ms/step - loss: 2.8896 - accuracy: 0.4953 - val_loss: 2.5935 - val_accuracy: 0.5609\n",
      "\n",
      "Epoch 00002: val_accuracy improved from 0.55439 to 0.56090, saving model to ./Model/model2.hdf5\n",
      "Epoch 3/24\n",
      "781/781 [==============================] - 630s 806ms/step - loss: 2.8689 - accuracy: 0.4992 - val_loss: 2.5951 - val_accuracy: 0.5547\n",
      "\n",
      "Epoch 00003: val_accuracy did not improve from 0.56090\n",
      "Epoch 4/24\n",
      "781/781 [==============================] - 631s 807ms/step - loss: 2.8506 - accuracy: 0.5048 - val_loss: 2.5746 - val_accuracy: 0.5624\n",
      "\n",
      "Epoch 00004: val_accuracy improved from 0.56090 to 0.56240, saving model to ./Model/model2.hdf5\n",
      "Epoch 5/24\n",
      "781/781 [==============================] - 630s 806ms/step - loss: 2.8360 - accuracy: 0.5064 - val_loss: 2.5896 - val_accuracy: 0.5598\n",
      "\n",
      "Epoch 00005: val_accuracy did not improve from 0.56240\n",
      "Epoch 6/24\n",
      "781/781 [==============================] - 628s 804ms/step - loss: 2.8205 - accuracy: 0.5103 - val_loss: 2.5662 - val_accuracy: 0.5683\n",
      "\n",
      "Epoch 00006: val_accuracy improved from 0.56240 to 0.56831, saving model to ./Model/model2.hdf5\n",
      "Epoch 7/24\n",
      "781/781 [==============================] - 629s 804ms/step - loss: 2.8086 - accuracy: 0.5142 - val_loss: 2.5590 - val_accuracy: 0.5680\n",
      "\n",
      "Epoch 00007: val_accuracy did not improve from 0.56831\n",
      "Epoch 8/24\n",
      "781/781 [==============================] - 629s 805ms/step - loss: 2.7926 - accuracy: 0.5180 - val_loss: 2.5570 - val_accuracy: 0.5658\n",
      "\n",
      "Epoch 00008: val_accuracy did not improve from 0.56831\n",
      "Epoch 9/24\n",
      "781/781 [==============================] - 627s 803ms/step - loss: 2.7890 - accuracy: 0.5190 - val_loss: 2.5579 - val_accuracy: 0.5698\n",
      "\n",
      "Epoch 00009: val_accuracy improved from 0.56831 to 0.56981, saving model to ./Model/model2.hdf5\n",
      "Epoch 10/24\n",
      "781/781 [==============================] - 628s 804ms/step - loss: 2.7857 - accuracy: 0.5211 - val_loss: 2.5452 - val_accuracy: 0.5708\n",
      "\n",
      "Epoch 00010: val_accuracy improved from 0.56981 to 0.57081, saving model to ./Model/model2.hdf5\n",
      "Epoch 11/24\n",
      "781/781 [==============================] - 629s 804ms/step - loss: 2.7778 - accuracy: 0.5221 - val_loss: 2.5540 - val_accuracy: 0.5715\n",
      "\n",
      "Epoch 00011: val_accuracy improved from 0.57081 to 0.57151, saving model to ./Model/model2.hdf5\n",
      "Epoch 12/24\n",
      "781/781 [==============================] - 629s 805ms/step - loss: 2.7673 - accuracy: 0.5249 - val_loss: 2.5467 - val_accuracy: 0.5745\n",
      "\n",
      "Epoch 00012: val_accuracy improved from 0.57151 to 0.57452, saving model to ./Model/model2.hdf5\n",
      "Epoch 13/24\n",
      "781/781 [==============================] - 629s 805ms/step - loss: 2.7645 - accuracy: 0.5273 - val_loss: 2.5426 - val_accuracy: 0.5737\n",
      "\n",
      "Epoch 00013: val_accuracy did not improve from 0.57452\n",
      "Epoch 14/24\n",
      "781/781 [==============================] - 629s 805ms/step - loss: 2.7546 - accuracy: 0.5273 - val_loss: 2.5425 - val_accuracy: 0.5742\n",
      "\n",
      "Epoch 00014: val_accuracy did not improve from 0.57452\n",
      "Epoch 15/24\n",
      "781/781 [==============================] - 629s 805ms/step - loss: 2.7481 - accuracy: 0.5291 - val_loss: 2.5432 - val_accuracy: 0.5756\n",
      "\n",
      "Epoch 00015: val_accuracy improved from 0.57452 to 0.57562, saving model to ./Model/model2.hdf5\n",
      "Epoch 16/24\n",
      "781/781 [==============================] - 629s 805ms/step - loss: 2.7445 - accuracy: 0.5319 - val_loss: 2.5646 - val_accuracy: 0.5695\n",
      "\n",
      "Epoch 00016: val_accuracy did not improve from 0.57562\n",
      "Epoch 17/24\n",
      "781/781 [==============================] - 629s 805ms/step - loss: 2.7386 - accuracy: 0.5320 - val_loss: 2.5638 - val_accuracy: 0.5746\n",
      "\n",
      "Epoch 00017: val_accuracy did not improve from 0.57562\n"
     ]
    }
   ],
   "source": [
    "# callbacks\n",
    "import tensorflow_addons as tfa\n",
    "from tensorflow.keras.callbacks import Callback, ModelCheckpoint, LearningRateScheduler, TensorBoard, EarlyStopping, ReduceLROnPlateau\n",
    "steps_per_epoch= num_train // batch_size\n",
    "clr = tfa.optimizers.CyclicalLearningRate(initial_learning_rate=0.00001, maximal_learning_rate=0.00006,\n",
    "                                          scale_fn=lambda x: 1/(2.**(x-1)), step_size=6*steps_per_epoch) #Cyclic learning rate\n",
    "\n",
    "scheduler = tf.keras.callbacks.LearningRateScheduler(clr)\n",
    "early_stopping = EarlyStopping(patience = 3, monitor='val_loss', \n",
    "                               mode='min', restore_best_weights=True)\n",
    "checkpointer_2= ModelCheckpoint(filepath=\"./Model/model2.hdf5\", verbose=1, save_best_only=True, monitor=\"val_accuracy\")\n",
    "# fit the model \n",
    "history = new_model.fit(train_generator,\n",
    "                        epochs=24,\n",
    "                        steps_per_epoch= num_train // batch_size,\n",
    "                        validation_steps= num_validation // batch_size,\n",
    "                        validation_data=validation_generator,\n",
    "                        verbose=1, callbacks=[scheduler, checkpointer_2,early_stopping]\n",
    "                       )"
   ]
  },
  {
   "cell_type": "code",
   "execution_count": 9,
   "metadata": {},
   "outputs": [
    {
     "data": {
      "text/plain": [
       "<matplotlib.legend.Legend at 0x7fec2e0a4128>"
      ]
     },
     "execution_count": 9,
     "metadata": {},
     "output_type": "execute_result"
    },
    {
     "data": {
      "image/png": "[encoded data removed]",
      "text/plain": [
       "<Figure size 720x576 with 2 Axes>"
      ]
     },
     "metadata": {
      "needs_background": "light"
     },
     "output_type": "display_data"
    }
   ],
   "source": [
    "import matplotlib.pyplot as plt\n",
    "(fig, ax) = plt.subplots(2, 1, figsize=(10, 8))\n",
    "\n",
    "ax[0].plot(history.history[\"loss\"], label=\"train_loss\")\n",
    "ax[0].plot(history.history[\"val_loss\"], label=\"val_loss\")\n",
    "ax[0].legend()\n",
    "ax[1].plot(history.history[\"accuracy\"], label= \"train_accuracy\")\n",
    "ax[1].plot(history.history[\"val_accuracy\"], label=\"val_accuracy\")\n",
    "ax[1].legend()"
   ]
  },
  {
   "cell_type": "markdown",
   "metadata": {},
   "source": [
    "### The max validation accuracy is 57.56%"
   ]
  },
  {
   "cell_type": "code",
   "execution_count": 12,
   "metadata": {},
   "outputs": [],
   "source": [
    "#Save the result\n",
    "pd.DataFrame(history.history).to_csv('./history/history_model2.csv')"
   ]
  },
  {
   "cell_type": "markdown",
   "metadata": {
    "colab_type": "text",
    "id": "QptoyV3vDz3y"
   },
   "source": [
    "### Before further running the third round, we shall analyse the accuracy of individual classes"
   ]
  },
  {
   "cell_type": "code",
   "execution_count": 13,
   "metadata": {
    "colab": {
     "base_uri": "https://localhost:8080/",
     "height": 141
    },
    "colab_type": "code",
    "id": "rO9-EZlFcpU4",
    "outputId": "c48331b7-d6c3-48be-e4f8-f49a14697b23"
   },
   "outputs": [],
   "source": [
    "# load the model after 16 hours\n",
    "from tensorflow.keras.models import load_model\n",
    "extended_model = load_model(\"./Model/model2.hdf5\")"
   ]
  },
  {
   "cell_type": "code",
   "execution_count": 14,
   "metadata": {
    "colab": {
     "base_uri": "https://localhost:8080/",
     "height": 34
    },
    "colab_type": "code",
    "id": "SXtmK6DPj3iy",
    "outputId": "3d358905-22d5-48ca-aa03-3c6cc9062996"
   },
   "outputs": [
    {
     "name": "stdout",
     "output_type": "stream",
     "text": [
      "79/79 [==============================] - 21s 272ms/step\n"
     ]
    }
   ],
   "source": [
    "#Prediction\n",
    "pred=extended_model.predict(validation_generator, steps= np.ceil(num_validation/batch_size), verbose=1)\n",
    "predicted_class_indices=np.argmax(pred,axis=1)"
   ]
  },
  {
   "cell_type": "code",
   "execution_count": 15,
   "metadata": {
    "colab": {
     "base_uri": "https://localhost:8080/",
     "height": 34
    },
    "colab_type": "code",
    "id": "p9COv3Hbj6Ar",
    "outputId": "2f0aef6c-1ef8-4be5-c58c-b7c04ca5069a"
   },
   "outputs": [
    {
     "data": {
      "text/plain": [
       "array([107,  40,  83,  69, 168, 161, 147,  73, 145,  39])"
      ]
     },
     "execution_count": 15,
     "metadata": {},
     "output_type": "execute_result"
    }
   ],
   "source": [
    "# Predicted class indices of 1st 10 val images\n",
    "predicted_class_indices[:10]"
   ]
  },
  {
   "cell_type": "code",
   "execution_count": 16,
   "metadata": {
    "colab": {
     "base_uri": "https://localhost:8080/",
     "height": 34
    },
    "colab_type": "code",
    "id": "aTpKgD88j9QS",
    "outputId": "b51a3c79-c9eb-4e72-b8eb-088fd3de8a2f"
   },
   "outputs": [
    {
     "data": {
      "text/plain": [
       "[107, 139, 140, 69, 69, 161, 147, 73, 145, 39]"
      ]
     },
     "execution_count": 16,
     "metadata": {},
     "output_type": "execute_result"
    }
   ],
   "source": [
    "# True class indices of 1st 10 val images\n",
    "validation_generator.classes[:10]"
   ]
  },
  {
   "cell_type": "code",
   "execution_count": 17,
   "metadata": {
    "colab": {
     "base_uri": "https://localhost:8080/",
     "height": 191
    },
    "colab_type": "code",
    "id": "uFfekTdqj_pZ",
    "outputId": "3731e3f6-2b5e-48df-f32f-5cc719ed3893"
   },
   "outputs": [
    {
     "data": {
      "text/plain": [
       "['n03444034',\n",
       " 'n02231487',\n",
       " 'n02948072',\n",
       " 'n02808440',\n",
       " 'n04507155',\n",
       " 'n04399382',\n",
       " 'n04179913',\n",
       " 'n02823428',\n",
       " 'n04146614',\n",
       " 'n02226429']"
      ]
     },
     "execution_count": 17,
     "metadata": {},
     "output_type": "execute_result"
    }
   ],
   "source": [
    "# Predicted classes from their indices\n",
    "labels = (validation_generator.class_indices)\n",
    "labels = dict((v,k) for k,v in labels.items())\n",
    "predictions = [labels[k] for k in predicted_class_indices]\n",
    "predictions[:10]"
   ]
  },
  {
   "cell_type": "code",
   "execution_count": 18,
   "metadata": {
    "colab": {},
    "colab_type": "code",
    "id": "oinJxT-6kBtX"
   },
   "outputs": [],
   "source": [
    "# Validation class names from words.txt\n",
    "import os\n",
    "class_to_name = dict()\n",
    "file = open('tiny-imagenet-200/words.txt','r')\n",
    "data= file.readlines()\n",
    "for line in data:\n",
    "  words = line.strip('\\n').split('\\t')\n",
    "  class_to_name[words[0]] = words[1].split(',')[0]\n",
    "file.close()"
   ]
  },
  {
   "cell_type": "code",
   "execution_count": 19,
   "metadata": {
    "colab": {},
    "colab_type": "code",
    "id": "Qdo95ObikFyI"
   },
   "outputs": [],
   "source": [
    "# Asserting Validation Class names from words.txt\n",
    "validation_class_names={}\n",
    "for _class in validation_generator.class_indices.keys():\n",
    "  validation_class_names.update({_class : class_to_name[_class]})"
   ]
  },
  {
   "cell_type": "code",
   "execution_count": 20,
   "metadata": {
    "colab": {
     "base_uri": "https://localhost:8080/",
     "height": 3612
    },
    "colab_type": "code",
    "id": "YDXz41tBkHqM",
    "outputId": "82b5e29a-c19e-4fa8-9823-540c14e37e81",
    "scrolled": true
   },
   "outputs": [
    {
     "name": "stdout",
     "output_type": "stream",
     "text": [
      "                          precision    recall  f1-score   support\n",
      "\n",
      "                goldfish     0.6923    0.9000    0.7826        50\n",
      "European fire salamander     0.8039    0.8200    0.8119        50\n",
      "                bullfrog     0.5745    0.5400    0.5567        50\n",
      "             tailed frog     0.5472    0.5800    0.5631        50\n",
      "      American alligator     0.5000    0.5600    0.5283        50\n",
      "         boa constrictor     0.5000    0.3400    0.4048        50\n",
      "               trilobite     0.6522    0.9000    0.7563        50\n",
      "                scorpion     0.6765    0.4600    0.5476        50\n",
      "             black widow     0.7170    0.7600    0.7379        50\n",
      "               tarantula     0.5849    0.6200    0.6019        50\n",
      "               centipede     0.6444    0.5800    0.6105        50\n",
      "                   goose     0.5303    0.7000    0.6034        50\n",
      "                   koala     0.7551    0.7400    0.7475        50\n",
      "               jellyfish     0.7069    0.8200    0.7593        50\n",
      "             brain coral     0.5556    0.8000    0.6557        50\n",
      "                   snail     0.4912    0.5600    0.5234        50\n",
      "                    slug     0.4524    0.3800    0.4130        50\n",
      "                sea slug     0.6557    0.8000    0.7207        50\n",
      "        American lobster     0.4677    0.5800    0.5179        50\n",
      "           spiny lobster     0.5893    0.6600    0.6226        50\n",
      "             black stork     0.7091    0.7800    0.7429        50\n",
      "            king penguin     0.8000    0.7200    0.7579        50\n",
      "               albatross     0.7091    0.7800    0.7429        50\n",
      "                  dugong     0.8036    0.9000    0.8491        50\n",
      "               Chihuahua     0.3846    0.4000    0.3922        50\n",
      "       Yorkshire terrier     0.7959    0.7800    0.7879        50\n",
      "        golden retriever     0.5238    0.4400    0.4783        50\n",
      "      Labrador retriever     0.3590    0.2800    0.3146        50\n",
      "         German shepherd     0.6098    0.5000    0.5495        50\n",
      "         standard poodle     0.3333    0.2400    0.2791        50\n",
      "                   tabby     0.5000    0.4600    0.4792        50\n",
      "             Persian cat     0.5818    0.6400    0.6095        50\n",
      "            Egyptian cat     0.3962    0.4200    0.4078        50\n",
      "                  cougar     0.4516    0.5600    0.5000        50\n",
      "                    lion     0.6032    0.7600    0.6726        50\n",
      "              brown bear     0.5522    0.7400    0.6325        50\n",
      "                 ladybug     0.8400    0.8400    0.8400        50\n",
      "                     fly     0.6154    0.6400    0.6275        50\n",
      "                     bee     0.7292    0.7000    0.7143        50\n",
      "             grasshopper     0.5357    0.6000    0.5660        50\n",
      "           walking stick     0.4583    0.4400    0.4490        50\n",
      "               cockroach     0.5366    0.4400    0.4835        50\n",
      "                  mantis     0.5614    0.6400    0.5981        50\n",
      "               dragonfly     0.5179    0.5800    0.5472        50\n",
      "                 monarch     0.9184    0.9000    0.9091        50\n",
      "       sulphur butterfly     0.7895    0.9000    0.8411        50\n",
      "            sea cucumber     0.5385    0.5600    0.5490        50\n",
      "              guinea pig     0.7442    0.6400    0.6882        50\n",
      "                     hog     0.3421    0.2600    0.2955        50\n",
      "                      ox     0.5455    0.3600    0.4337        50\n",
      "                   bison     0.7170    0.7600    0.7379        50\n",
      "                 bighorn     0.6500    0.5200    0.5778        50\n",
      "                 gazelle     0.5775    0.8200    0.6777        50\n",
      "           Arabian camel     0.6596    0.6200    0.6392        50\n",
      "               orangutan     0.7619    0.6400    0.6957        50\n",
      "              chimpanzee     0.6296    0.6800    0.6538        50\n",
      "                  baboon     0.7179    0.5600    0.6292        50\n",
      "        African elephant     0.6731    0.7000    0.6863        50\n",
      "            lesser panda     0.9070    0.7800    0.8387        50\n",
      "                  abacus     0.5227    0.4600    0.4894        50\n",
      "           academic gown     0.6724    0.7800    0.7222        50\n",
      "                   altar     0.6102    0.7200    0.6606        50\n",
      "                   apron     0.3878    0.3800    0.3838        50\n",
      "                backpack     0.5000    0.6400    0.5614        50\n",
      "               bannister     0.3091    0.3400    0.3238        50\n",
      "              barbershop     0.5357    0.3000    0.3846        50\n",
      "                    barn     0.6111    0.6600    0.6346        50\n",
      "                  barrel     0.6000    0.4200    0.4941        50\n",
      "              basketball     0.5075    0.6800    0.5812        50\n",
      "                 bathtub     0.5208    0.5000    0.5102        50\n",
      "             beach wagon     0.6176    0.4200    0.5000        50\n",
      "                  beacon     0.5968    0.7400    0.6607        50\n",
      "                  beaker     0.5600    0.5600    0.5600        50\n",
      "             beer bottle     0.5238    0.4400    0.4783        50\n",
      "                  bikini     0.6818    0.6000    0.6383        50\n",
      "              binoculars     0.5000    0.4400    0.4681        50\n",
      "               birdhouse     0.5227    0.4600    0.4894        50\n",
      "                 bow tie     0.3250    0.2600    0.2889        50\n",
      "                   brass     0.7255    0.7400    0.7327        50\n",
      "                   broom     0.3913    0.3600    0.3750        50\n",
      "                  bucket     0.2889    0.2600    0.2737        50\n",
      "            bullet train     0.7719    0.8800    0.8224        50\n",
      "            butcher shop     0.7209    0.6200    0.6667        50\n",
      "                  candle     0.3962    0.4200    0.4078        50\n",
      "                  cannon     0.5143    0.3600    0.4235        50\n",
      "                cardigan     0.4737    0.5400    0.5047        50\n",
      "            cash machine     0.6042    0.5800    0.5918        50\n",
      "               CD player     0.5000    0.5200    0.5098        50\n",
      "                   chain     0.4038    0.4200    0.4118        50\n",
      "                   chest     0.5000    0.5800    0.5370        50\n",
      "      Christmas stocking     0.6400    0.6400    0.6400        50\n",
      "          cliff dwelling     0.7500    0.6000    0.6667        50\n",
      "       computer keyboard     0.5800    0.5800    0.5800        50\n",
      "           confectionery     0.6977    0.6000    0.6452        50\n",
      "             convertible     0.4189    0.6200    0.5000        50\n",
      "                   crane     0.5882    0.4000    0.4762        50\n",
      "                     dam     0.6341    0.5200    0.5714        50\n",
      "                    desk     0.6744    0.5800    0.6237        50\n",
      "            dining table     0.5538    0.7200    0.6261        50\n",
      "               drumstick     0.3793    0.2200    0.2785        50\n",
      "                dumbbell     0.3387    0.4200    0.3750        50\n",
      "                flagpole     0.6731    0.7000    0.6863        50\n",
      "                fountain     0.4462    0.5800    0.5043        50\n",
      "             freight car     0.8444    0.7600    0.8000        50\n",
      "              frying pan     0.4400    0.4400    0.4400        50\n",
      "                fur coat     0.4510    0.4600    0.4554        50\n",
      "                 gasmask     0.4474    0.3400    0.3864        50\n",
      "                 go-kart     0.5714    0.8000    0.6667        50\n",
      "                 gondola     0.8163    0.8000    0.8081        50\n",
      "               hourglass     0.6327    0.6200    0.6263        50\n",
      "                    iPod     0.6977    0.6000    0.6452        50\n",
      "              jinrikisha     0.6154    0.6400    0.6275        50\n",
      "                  kimono     0.3958    0.3800    0.3878        50\n",
      "               lampshade     0.4000    0.5200    0.4522        50\n",
      "              lawn mower     0.6136    0.5400    0.5745        50\n",
      "                lifeboat     0.9091    0.8000    0.8511        50\n",
      "               limousine     0.4889    0.4400    0.4632        50\n",
      "        magnetic compass     0.6122    0.6000    0.6061        50\n",
      "                 maypole     0.6727    0.7400    0.7048        50\n",
      "        military uniform     0.3966    0.4600    0.4259        50\n",
      "               miniskirt     0.5143    0.3600    0.4235        50\n",
      "              moving van     0.6226    0.6600    0.6408        50\n",
      "                    nail     0.3585    0.3800    0.3689        50\n",
      "              neck brace     0.3962    0.4200    0.4078        50\n",
      "                 obelisk     0.8085    0.7600    0.7835        50\n",
      "                    oboe     0.5111    0.4600    0.4842        50\n",
      "                   organ     0.5926    0.6400    0.6154        50\n",
      "           parking meter     0.6829    0.5600    0.6154        50\n",
      "               pay-phone     0.4833    0.5800    0.5273        50\n",
      "            picket fence     0.6071    0.6800    0.6415        50\n",
      "             pill bottle     0.5000    0.5200    0.5098        50\n",
      "                 plunger     0.2222    0.2000    0.2105        50\n",
      "                    pole     0.2308    0.1800    0.2022        50\n",
      "              police van     0.8333    0.7000    0.7609        50\n",
      "                  poncho     0.4918    0.6000    0.5405        50\n",
      "              pop bottle     0.4000    0.2400    0.3000        50\n",
      "          potter's wheel     0.3605    0.6200    0.4559        50\n",
      "              projectile     0.5294    0.3600    0.4286        50\n",
      "            punching bag     0.3617    0.3400    0.3505        50\n",
      "                    reel     0.2653    0.2600    0.2626        50\n",
      "            refrigerator     0.5652    0.5200    0.5417        50\n",
      "          remote control     0.6571    0.4600    0.5412        50\n",
      "           rocking chair     0.5098    0.5200    0.5149        50\n",
      "              rugby ball     0.8958    0.8600    0.8776        50\n",
      "                  sandal     0.4697    0.6200    0.5345        50\n",
      "              school bus     0.8400    0.8400    0.8400        50\n",
      "              scoreboard     0.8684    0.6600    0.7500        50\n",
      "          sewing machine     0.4898    0.4800    0.4848        50\n",
      "                 snorkel     0.5769    0.6000    0.5882        50\n",
      "                    sock     0.5833    0.7000    0.6364        50\n",
      "                sombrero     0.7027    0.5200    0.5977        50\n",
      "            space heater     0.3731    0.5000    0.4274        50\n",
      "              spider web     0.5135    0.7600    0.6129        50\n",
      "              sports car     0.6531    0.6400    0.6465        50\n",
      "       steel arch bridge     0.7105    0.5400    0.6136        50\n",
      "               stopwatch     0.6383    0.6000    0.6186        50\n",
      "              sunglasses     0.5000    0.5000    0.5000        50\n",
      "       suspension bridge     0.5208    0.5000    0.5102        50\n",
      "         swimming trunks     0.5000    0.3600    0.4186        50\n",
      "                 syringe     0.2564    0.2000    0.2247        50\n",
      "                  teapot     0.3662    0.5200    0.4298        50\n",
      "                   teddy     0.5932    0.7000    0.6422        50\n",
      "                  thatch     0.6818    0.6000    0.6383        50\n",
      "                   torch     0.5161    0.6400    0.5714        50\n",
      "                 tractor     0.7250    0.5800    0.6444        50\n",
      "          triumphal arch     0.8200    0.8200    0.8200        50\n",
      "              trolleybus     0.9318    0.8200    0.8723        50\n",
      "               turnstile     0.4286    0.5400    0.4779        50\n",
      "                umbrella     0.3000    0.2400    0.2667        50\n",
      "                vestment     0.6122    0.6000    0.6061        50\n",
      "                 viaduct     0.7308    0.7600    0.7451        50\n",
      "              volleyball     0.7500    0.6000    0.6667        50\n",
      "               water jug     0.3864    0.3400    0.3617        50\n",
      "             water tower     0.8039    0.8200    0.8119        50\n",
      "                     wok     0.5814    0.5000    0.5376        50\n",
      "            wooden spoon     0.2105    0.0800    0.1159        50\n",
      "              comic book     0.8537    0.7000    0.7692        50\n",
      "                   plate     0.4314    0.4400    0.4356        50\n",
      "               guacamole     0.7708    0.7400    0.7551        50\n",
      "               ice cream     0.3548    0.4400    0.3929        50\n",
      "               ice lolly     0.3333    0.2600    0.2921        50\n",
      "                 pretzel     0.6739    0.6200    0.6458        50\n",
      "           mashed potato     0.5778    0.5200    0.5474        50\n",
      "             cauliflower     0.7576    0.5000    0.6024        50\n",
      "             bell pepper     0.7500    0.7800    0.7647        50\n",
      "                mushroom     0.7000    0.7000    0.7000        50\n",
      "                  orange     0.5217    0.7200    0.6050        50\n",
      "                   lemon     0.6200    0.6200    0.6200        50\n",
      "                  banana     0.6226    0.6600    0.6408        50\n",
      "             pomegranate     0.8571    0.7200    0.7826        50\n",
      "               meat loaf     0.4902    0.5000    0.4950        50\n",
      "                   pizza     0.6557    0.8000    0.7207        50\n",
      "                  potpie     0.5763    0.6800    0.6239        50\n",
      "                espresso     0.6364    0.8400    0.7241        50\n",
      "                     alp     0.7292    0.7000    0.7143        50\n",
      "                   cliff     0.6000    0.6600    0.6286        50\n",
      "              coral reef     0.6122    0.6000    0.6061        50\n",
      "                lakeside     0.4286    0.3600    0.3913        50\n",
      "                seashore     0.4533    0.6800    0.5440        50\n",
      "                   acorn     0.6667    0.5200    0.5843        50\n",
      "\n",
      "                accuracy                         0.5755     10000\n",
      "               macro avg     0.5783    0.5755    0.5716     10000\n",
      "            weighted avg     0.5783    0.5755    0.5716     10000\n",
      "\n"
     ]
    }
   ],
   "source": [
    "# Classification Report of val classes\n",
    "from sklearn.metrics import confusion_matrix, classification_report\n",
    "\n",
    "print(classification_report(validation_generator.classes, predicted_class_indices,\n",
    "                            #target_names=validation_generator.class_indices.keys(),\n",
    "                            target_names=validation_class_names.values(),\n",
    "                            digits=4))"
   ]
  },
  {
   "cell_type": "markdown",
   "metadata": {},
   "source": [
    "### We found significant difference in precision among groups."
   ]
  },
  {
   "cell_type": "markdown",
   "metadata": {
    "colab_type": "text",
    "id": "cAhDKnbIFtZ6"
   },
   "source": [
    "### We keep training the model with base_lr=1e-5 and max_lr=6e-5, and step_size in no. of epochs = 4."
   ]
  },
  {
   "cell_type": "code",
   "execution_count": 32,
   "metadata": {
    "colab": {
     "base_uri": "https://localhost:8080/",
     "height": 1702
    },
    "colab_type": "code",
    "id": "w_6TWZ2-kOt6",
    "outputId": "0eaef696-5b7b-420b-ca1b-2476ca7d2808"
   },
   "outputs": [
    {
     "name": "stderr",
     "output_type": "stream",
     "text": [
      "/home/ecbm4040/envTF24/lib/python3.6/site-packages/imgaug/imgaug.py:184: DeprecationWarning: Function `ContrastNormalization()` is deprecated. Use `imgaug.contrast.LinearContrast` instead.\n",
      "  warn_deprecated(msg, stacklevel=3)\n"
     ]
    },
    {
     "name": "stdout",
     "output_type": "stream",
     "text": [
      "Epoch 1/24\n",
      "782/782 [==============================] - 633s 806ms/step - loss: 2.7381 - accuracy: 0.5341 - val_loss: 2.5514 - val_accuracy: 0.5748\n",
      "\n",
      "Epoch 00001: val_accuracy improved from -inf to 0.57480, saving model to ./Model/model3.hdf5\n",
      "Epoch 2/24\n",
      "782/782 [==============================] - 630s 806ms/step - loss: 2.7392 - accuracy: 0.5316 - val_loss: 2.5464 - val_accuracy: 0.5753\n",
      "\n",
      "Epoch 00002: val_accuracy improved from 0.57480 to 0.57530, saving model to ./Model/model3.hdf5\n",
      "Epoch 3/24\n",
      "782/782 [==============================] - 630s 805ms/step - loss: 2.7294 - accuracy: 0.5357 - val_loss: 2.5355 - val_accuracy: 0.5772\n",
      "\n",
      "Epoch 00003: val_accuracy improved from 0.57530 to 0.57720, saving model to ./Model/model3.hdf5\n",
      "Epoch 4/24\n",
      "782/782 [==============================] - 631s 806ms/step - loss: 2.7204 - accuracy: 0.5383 - val_loss: 2.5451 - val_accuracy: 0.5774\n",
      "\n",
      "Epoch 00004: val_accuracy improved from 0.57720 to 0.57740, saving model to ./Model/model3.hdf5\n",
      "Epoch 5/24\n",
      "782/782 [==============================] - 631s 806ms/step - loss: 2.7136 - accuracy: 0.5386 - val_loss: 2.5352 - val_accuracy: 0.5799\n",
      "\n",
      "Epoch 00005: val_accuracy improved from 0.57740 to 0.57990, saving model to ./Model/model3.hdf5\n",
      "Epoch 6/24\n",
      "782/782 [==============================] - 630s 805ms/step - loss: 2.7179 - accuracy: 0.5388 - val_loss: 2.5334 - val_accuracy: 0.5819\n",
      "\n",
      "Epoch 00006: val_accuracy improved from 0.57990 to 0.58190, saving model to ./Model/model3.hdf5\n",
      "Epoch 7/24\n",
      "782/782 [==============================] - 630s 806ms/step - loss: 2.7148 - accuracy: 0.5404 - val_loss: 2.5465 - val_accuracy: 0.5804\n",
      "\n",
      "Epoch 00007: val_accuracy did not improve from 0.58190\n",
      "Epoch 8/24\n",
      "782/782 [==============================] - 629s 804ms/step - loss: 2.7009 - accuracy: 0.5414 - val_loss: 2.5520 - val_accuracy: 0.5758\n",
      "\n",
      "Epoch 00008: val_accuracy did not improve from 0.58190\n",
      "Epoch 9/24\n",
      "782/782 [==============================] - 630s 806ms/step - loss: 2.6936 - accuracy: 0.5458 - val_loss: 2.5468 - val_accuracy: 0.5784\n",
      "\n",
      "Epoch 00009: val_accuracy did not improve from 0.58190\n",
      "Epoch 10/24\n",
      "782/782 [==============================] - 630s 806ms/step - loss: 2.6969 - accuracy: 0.5454 - val_loss: 2.5380 - val_accuracy: 0.5796\n",
      "\n",
      "Epoch 00010: val_accuracy did not improve from 0.58190\n",
      "Epoch 11/24\n",
      "782/782 [==============================] - 630s 805ms/step - loss: 2.6852 - accuracy: 0.5466 - val_loss: 2.5465 - val_accuracy: 0.5787\n",
      "\n",
      "Epoch 00011: val_accuracy did not improve from 0.58190\n"
     ]
    }
   ],
   "source": [
    "# Callbacks\n",
    "steps_per_epoch= num_train // batch_size\n",
    "clr = tfa.optimizers.CyclicalLearningRate(initial_learning_rate=0.00001, maximal_learning_rate=0.00006,\n",
    "                                          scale_fn=lambda x: 1/(2.**(x-1)), step_size=4 * steps_per_epoch) #Cyclic learning rate\n",
    "scheduler = tf.keras.callbacks.LearningRateScheduler(clr)\n",
    "early_stopping = EarlyStopping(patience = 5, monitor='val_loss', \n",
    "                               mode='min', restore_best_weights=True)\n",
    "checkpointer_3= ModelCheckpoint(filepath=\"./Model/model3.hdf5\", verbose=1, save_best_only=True, monitor=\"val_accuracy\")\n",
    "# fit the model\n",
    "history2 = extended_model.fit(train_generator,\n",
    "                             epochs=epochs,\n",
    "                             steps_per_epoch= np.ceil(num_train/batch_size),\n",
    "                             validation_steps= np.ceil(num_validation/batch_size),\n",
    "                             validation_data=validation_generator,\n",
    "                             verbose=1, callbacks=[scheduler, early_stopping,checkpointer_3],\n",
    "                             )"
   ]
  },
  {
   "cell_type": "code",
   "execution_count": 33,
   "metadata": {},
   "outputs": [
    {
     "data": {
      "text/plain": [
       "<matplotlib.legend.Legend at 0x7fe8283e6518>"
      ]
     },
     "execution_count": 33,
     "metadata": {},
     "output_type": "execute_result"
    },
    {
     "data": {
      "image/png": "[encoded data removed]",
      "text/plain": [
       "<Figure size 720x576 with 2 Axes>"
      ]
     },
     "metadata": {
      "needs_background": "light"
     },
     "output_type": "display_data"
    }
   ],
   "source": [
    "import matplotlib.pyplot as plt\n",
    "(fig, ax) = plt.subplots(2, 1, figsize=(10, 8))\n",
    "\n",
    "ax[0].plot(history2.history[\"loss\"], label=\"train_loss\")\n",
    "ax[0].plot(history2.history[\"val_loss\"], label=\"val_loss\")\n",
    "ax[0].legend()\n",
    "ax[1].plot(history2.history[\"accuracy\"], label= \"train_accuracy\")\n",
    "ax[1].plot(history2.history[\"val_accuracy\"], label=\"val_accuracy\")\n",
    "ax[1].legend()"
   ]
  },
  {
   "cell_type": "markdown",
   "metadata": {},
   "source": [
    "### The training early stopped in the 11th epoch and  max validation accuracy is 58.20%."
   ]
  },
  {
   "cell_type": "code",
   "execution_count": 34,
   "metadata": {},
   "outputs": [],
   "source": [
    "#Save the results\n",
    "pd.DataFrame(history2.history).to_csv('./history/history_model3.csv')"
   ]
  },
  {
   "cell_type": "markdown",
   "metadata": {
    "colab_type": "text",
    "id": "mQUkQQMjJVLN"
   },
   "source": [
    "### The fourth round with base_lr=1e-6 and max_lr=6e-6.\n",
    "#### There is only 12 epochs"
   ]
  },
  {
   "cell_type": "code",
   "execution_count": 37,
   "metadata": {
    "colab": {
     "base_uri": "https://localhost:8080/",
     "height": 141
    },
    "colab_type": "code",
    "id": "tDOVKOk_KDob",
    "outputId": "3ffc329a-8c45-4fee-b074-54d7bba3f363"
   },
   "outputs": [],
   "source": [
    "# load the model\n",
    "#from keras.models import load_model\n",
    "extended_model = load_model(\"./Model/model3.hdf5\")"
   ]
  },
  {
   "cell_type": "code",
   "execution_count": 44,
   "metadata": {
    "colab": {
     "base_uri": "https://localhost:8080/",
     "height": 868
    },
    "colab_type": "code",
    "id": "IXn0LmC6juT3",
    "outputId": "33505379-9ec5-45d4-e9df-1c6d82b25a86"
   },
   "outputs": [
    {
     "name": "stdout",
     "output_type": "stream",
     "text": [
      "Epoch 1/12\n",
      "782/782 [==============================] - 633s 807ms/step - loss: 2.6833 - accuracy: 0.5479 - val_loss: 2.5066 - val_accuracy: 0.5863\n",
      "\n",
      "Epoch 00001: val_accuracy improved from -inf to 0.58630, saving model to ./Model/model4.hdf5\n",
      "Epoch 2/12\n",
      "782/782 [==============================] - 631s 806ms/step - loss: 2.6801 - accuracy: 0.5485 - val_loss: 2.5032 - val_accuracy: 0.5874\n",
      "\n",
      "Epoch 00002: val_accuracy improved from 0.58630 to 0.58740, saving model to ./Model/model4.hdf5\n",
      "Epoch 3/12\n",
      "782/782 [==============================] - 631s 807ms/step - loss: 2.6663 - accuracy: 0.5506 - val_loss: 2.5015 - val_accuracy: 0.5892\n",
      "\n",
      "Epoch 00003: val_accuracy improved from 0.58740 to 0.58920, saving model to ./Model/model4.hdf5\n",
      "Epoch 4/12\n",
      "782/782 [==============================] - 629s 804ms/step - loss: 2.6689 - accuracy: 0.5495 - val_loss: 2.5035 - val_accuracy: 0.5894\n",
      "\n",
      "Epoch 00004: val_accuracy improved from 0.58920 to 0.58940, saving model to ./Model/model4.hdf5\n",
      "Epoch 5/12\n",
      "782/782 [==============================] - 631s 806ms/step - loss: 2.6630 - accuracy: 0.5514 - val_loss: 2.5011 - val_accuracy: 0.5889\n",
      "\n",
      "Epoch 00005: val_accuracy did not improve from 0.58940\n",
      "Epoch 6/12\n",
      "782/782 [==============================] - 630s 805ms/step - loss: 2.6670 - accuracy: 0.5514 - val_loss: 2.5004 - val_accuracy: 0.5892\n",
      "\n",
      "Epoch 00006: val_accuracy did not improve from 0.58940\n",
      "Epoch 7/12\n",
      "782/782 [==============================] - 631s 806ms/step - loss: 2.6718 - accuracy: 0.5496 - val_loss: 2.5015 - val_accuracy: 0.5897\n",
      "\n",
      "Epoch 00007: val_accuracy improved from 0.58940 to 0.58970, saving model to ./Model/model4.hdf5\n",
      "Epoch 8/12\n",
      "782/782 [==============================] - 632s 808ms/step - loss: 2.6668 - accuracy: 0.5508 - val_loss: 2.4996 - val_accuracy: 0.5892\n",
      "\n",
      "Epoch 00008: val_accuracy did not improve from 0.58970\n",
      "Epoch 9/12\n",
      "782/782 [==============================] - 631s 806ms/step - loss: 2.6690 - accuracy: 0.5480 - val_loss: 2.5016 - val_accuracy: 0.5893\n",
      "\n",
      "Epoch 00009: val_accuracy did not improve from 0.58970\n",
      "Epoch 10/12\n",
      "782/782 [==============================] - 631s 806ms/step - loss: 2.6638 - accuracy: 0.5514 - val_loss: 2.4999 - val_accuracy: 0.5889\n",
      "\n",
      "Epoch 00010: val_accuracy did not improve from 0.58970\n",
      "Epoch 11/12\n",
      "782/782 [==============================] - 631s 806ms/step - loss: 2.6586 - accuracy: 0.5532 - val_loss: 2.5011 - val_accuracy: 0.5886\n",
      "\n",
      "Epoch 00011: val_accuracy did not improve from 0.58970\n",
      "Epoch 12/12\n",
      "782/782 [==============================] - 632s 808ms/step - loss: 2.6600 - accuracy: 0.5525 - val_loss: 2.5004 - val_accuracy: 0.5886\n",
      "\n",
      "Epoch 00012: val_accuracy did not improve from 0.58970\n"
     ]
    }
   ],
   "source": [
    "# Callbacks\n",
    "steps_per_epoch= num_train // batch_size\n",
    "clr = tfa.optimizers.CyclicalLearningRate(initial_learning_rate=0.000001, maximal_learning_rate=0.000006,\n",
    "                                          scale_fn=lambda x: 1/(2.**(x-1)), step_size=2 * steps_per_epoch) #Cyclic learning rate\n",
    "scheduler = tf.keras.callbacks.LearningRateScheduler(clr)\n",
    "early_stopping = EarlyStopping(patience = 5, monitor='val_loss', \n",
    "                               mode='min', restore_best_weights=True)\n",
    "\n",
    "\n",
    "\n",
    "checkpointer_4 = ModelCheckpoint(filepath=\"./Model/model4.hdf5\", verbose=1, save_best_only=True, monitor=\"val_accuracy\")\n",
    "# fit the model\n",
    "history4=extended_model.fit_generator(train_generator,\n",
    "                             epochs=12,\n",
    "                             steps_per_epoch= np.ceil(num_train/batch_size),\n",
    "                             validation_steps= np.ceil(num_validation/batch_size),\n",
    "                             validation_data=validation_generator,\n",
    "                             verbose=1, callbacks=[scheduler, early_stopping, checkpointer_4]\n",
    "                             )"
   ]
  },
  {
   "cell_type": "code",
   "execution_count": 45,
   "metadata": {},
   "outputs": [
    {
     "data": {
      "text/plain": [
       "<matplotlib.legend.Legend at 0x7fe878580f28>"
      ]
     },
     "execution_count": 45,
     "metadata": {},
     "output_type": "execute_result"
    },
    {
     "data": {
      "image/png": "[encoded data removed]",
      "text/plain": [
       "<Figure size 720x576 with 2 Axes>"
      ]
     },
     "metadata": {
      "needs_background": "light"
     },
     "output_type": "display_data"
    }
   ],
   "source": [
    "import matplotlib.pyplot as plt\n",
    "(fig, ax) = plt.subplots(2, 1, figsize=(10, 8))\n",
    "\n",
    "ax[0].plot(history4.history[\"loss\"], label=\"train_loss\")\n",
    "ax[0].plot(history4.history[\"val_loss\"], label=\"val_loss\")\n",
    "ax[0].legend()\n",
    "ax[1].plot(history4.history[\"accuracy\"], label= \"train_accuracy\")\n",
    "ax[1].plot(history4.history[\"val_accuracy\"], label=\"val_accuracy\")\n",
    "ax[1].legend()"
   ]
  },
  {
   "cell_type": "markdown",
   "metadata": {},
   "source": [
    "### The max validation accuracy is 58.97%"
   ]
  },
  {
   "cell_type": "code",
   "execution_count": 46,
   "metadata": {},
   "outputs": [],
   "source": [
    "pd.DataFrame(history4.history).to_csv('./history/history_model4.csv')"
   ]
  },
  {
   "cell_type": "markdown",
   "metadata": {
    "colab_type": "text",
    "id": "Gctl0JQEERwN"
   },
   "source": [
    "### The fifth round with base_lr=1e-05 and max_lr=6e-5"
   ]
  },
  {
   "cell_type": "code",
   "execution_count": 20,
   "metadata": {
    "colab": {
     "base_uri": "https://localhost:8080/",
     "height": 141
    },
    "colab_type": "code",
    "id": "ka_Y06r2KNXh",
    "outputId": "bafca02f-bc88-4182-c41c-8309becdd039"
   },
   "outputs": [],
   "source": [
    "# load the model after 28 hours\n",
    "from tensorflow.keras.models import load_model\n",
    "extended_model = load_model(\"./Model/model4.hdf5\")"
   ]
  },
  {
   "cell_type": "code",
   "execution_count": 21,
   "metadata": {
    "colab": {
     "base_uri": "https://localhost:8080/",
     "height": 868
    },
    "colab_type": "code",
    "id": "oSQ83f6NbDbF",
    "outputId": "8d81f197-16e9-4fc2-b5b3-08b7d3932fe4",
    "scrolled": true
   },
   "outputs": [
    {
     "name": "stderr",
     "output_type": "stream",
     "text": [
      "/home/ecbm4040/envTF24/lib/python3.6/site-packages/tensorflow/python/keras/engine/training.py:1844: UserWarning: `Model.fit_generator` is deprecated and will be removed in a future version. Please use `Model.fit`, which supports generators.\n",
      "  warnings.warn('`Model.fit_generator` is deprecated and '\n",
      "/home/ecbm4040/envTF24/lib/python3.6/site-packages/imgaug/imgaug.py:184: DeprecationWarning: Function `ContrastNormalization()` is deprecated. Use `imgaug.contrast.LinearContrast` instead.\n",
      "  warn_deprecated(msg, stacklevel=3)\n"
     ]
    },
    {
     "name": "stdout",
     "output_type": "stream",
     "text": [
      "Epoch 1/12\n",
      "782/782 [==============================] - 629s 802ms/step - loss: 2.6955 - accuracy: 0.5452 - val_loss: 2.5434 - val_accuracy: 0.5789\n",
      "\n",
      "Epoch 00001: val_accuracy improved from -inf to 0.57890, saving model to ./Model/model5.hdf5\n",
      "Epoch 2/12\n",
      "782/782 [==============================] - 628s 802ms/step - loss: 2.7022 - accuracy: 0.5415 - val_loss: 2.5420 - val_accuracy: 0.5818\n",
      "\n",
      "Epoch 00002: val_accuracy improved from 0.57890 to 0.58180, saving model to ./Model/model5.hdf5\n",
      "Epoch 3/12\n",
      "782/782 [==============================] - 628s 802ms/step - loss: 2.6889 - accuracy: 0.5451 - val_loss: 2.5401 - val_accuracy: 0.5816\n",
      "\n",
      "Epoch 00003: val_accuracy did not improve from 0.58180\n",
      "Epoch 4/12\n",
      "782/782 [==============================] - 628s 802ms/step - loss: 2.6902 - accuracy: 0.5457 - val_loss: 2.5459 - val_accuracy: 0.5811\n",
      "\n",
      "Epoch 00004: val_accuracy did not improve from 0.58180\n",
      "Epoch 5/12\n",
      "782/782 [==============================] - 627s 802ms/step - loss: 2.6861 - accuracy: 0.5475 - val_loss: 2.5438 - val_accuracy: 0.5858\n",
      "\n",
      "Epoch 00005: val_accuracy improved from 0.58180 to 0.58580, saving model to ./Model/model5.hdf5\n",
      "Epoch 6/12\n",
      "782/782 [==============================] - 628s 803ms/step - loss: 2.6827 - accuracy: 0.5488 - val_loss: 2.5682 - val_accuracy: 0.5778\n",
      "\n",
      "Epoch 00006: val_accuracy did not improve from 0.58580\n",
      "Epoch 7/12\n",
      "782/782 [==============================] - 629s 803ms/step - loss: 2.6793 - accuracy: 0.5507 - val_loss: 2.5329 - val_accuracy: 0.5833\n",
      "\n",
      "Epoch 00007: val_accuracy did not improve from 0.58580\n",
      "Epoch 8/12\n",
      "782/782 [==============================] - 628s 803ms/step - loss: 2.6728 - accuracy: 0.5514 - val_loss: 2.5479 - val_accuracy: 0.5832\n",
      "\n",
      "Epoch 00008: val_accuracy did not improve from 0.58580\n",
      "Epoch 9/12\n",
      "782/782 [==============================] - 628s 802ms/step - loss: 2.6737 - accuracy: 0.5528 - val_loss: 2.5561 - val_accuracy: 0.5802\n",
      "\n",
      "Epoch 00009: val_accuracy did not improve from 0.58580\n",
      "Epoch 10/12\n",
      "782/782 [==============================] - 628s 803ms/step - loss: 2.6695 - accuracy: 0.5552 - val_loss: 2.5497 - val_accuracy: 0.5826\n",
      "\n",
      "Epoch 00010: val_accuracy did not improve from 0.58580\n",
      "Epoch 11/12\n",
      "782/782 [==============================] - 626s 800ms/step - loss: 2.6626 - accuracy: 0.5569 - val_loss: 2.5499 - val_accuracy: 0.5809\n",
      "\n",
      "Epoch 00011: val_accuracy did not improve from 0.58580\n",
      "Epoch 12/12\n",
      "782/782 [==============================] - 627s 802ms/step - loss: 2.6540 - accuracy: 0.5589 - val_loss: 2.5759 - val_accuracy: 0.5769\n",
      "\n",
      "Epoch 00012: val_accuracy did not improve from 0.58580\n"
     ]
    }
   ],
   "source": [
    "# Callbacks\n",
    "import tensorflow_addons as tfa\n",
    "from tensorflow.keras.callbacks import Callback, ModelCheckpoint, LearningRateScheduler, TensorBoard, EarlyStopping, ReduceLROnPlateau\n",
    "\n",
    "steps_per_epoch= num_train // batch_size\n",
    "clr = tfa.optimizers.CyclicalLearningRate(initial_learning_rate=0.00001, maximal_learning_rate=0.00006, \n",
    "                                         scale_fn=lambda x: 1/(2.**(x-1)), step_size=2*steps_per_epoch) #Cyclic learning rate\n",
    "\n",
    "scheduler = tf.keras.callbacks.LearningRateScheduler(clr)\n",
    "early_stopping = EarlyStopping(patience = 5, monitor='val_loss', \n",
    "                               mode='min', restore_best_weights=True)\n",
    "\n",
    "checkpointer_5 = ModelCheckpoint(filepath=\"./Model/model5.hdf5\", verbose=1, save_best_only=True, monitor=\"val_accuracy\")\n",
    "# fit the model\n",
    "history5 = extended_model.fit_generator(train_generator,\n",
    "                             epochs=12,\n",
    "                             steps_per_epoch= np.ceil(num_train/batch_size),\n",
    "                             validation_steps= np.ceil(num_validation/batch_size),\n",
    "                             validation_data=validation_generator,\n",
    "                             verbose=1, callbacks=[scheduler, early_stopping, checkpointer_5]\n",
    "                             )"
   ]
  },
  {
   "cell_type": "code",
   "execution_count": 22,
   "metadata": {},
   "outputs": [
    {
     "data": {
      "text/plain": [
       "<matplotlib.legend.Legend at 0x7faa6d17eba8>"
      ]
     },
     "execution_count": 22,
     "metadata": {},
     "output_type": "execute_result"
    },
    {
     "data": {
      "image/png": "[encoded data removed]",
      "text/plain": [
       "<Figure size 720x576 with 2 Axes>"
      ]
     },
     "metadata": {
      "needs_background": "light"
     },
     "output_type": "display_data"
    }
   ],
   "source": [
    "import matplotlib.pyplot as plt\n",
    "(fig, ax) = plt.subplots(2, 1, figsize=(10, 8))\n",
    "\n",
    "ax[0].plot(history5.history[\"loss\"], label=\"train_loss\")\n",
    "ax[0].plot(history5.history[\"val_loss\"], label=\"val_loss\")\n",
    "ax[0].legend()\n",
    "ax[1].plot(history5.history[\"accuracy\"], label= \"train_accuracy\")\n",
    "ax[1].plot(history5.history[\"val_accuracy\"], label=\"val_accuracy\")\n",
    "ax[1].legend()"
   ]
  },
  {
   "cell_type": "markdown",
   "metadata": {},
   "source": [
    "### The max validation accuracy is 58.58%."
   ]
  },
  {
   "cell_type": "code",
   "execution_count": 23,
   "metadata": {},
   "outputs": [],
   "source": [
    "pd.DataFrame(history5.history).to_csv('./history/history_model5.csv')"
   ]
  },
  {
   "cell_type": "markdown",
   "metadata": {
    "colab_type": "text",
    "id": "ZmrJme0wEWs0"
   },
   "source": [
    "### The sixth round with base_lr=1e-07 and max_lr=6e-07"
   ]
  },
  {
   "cell_type": "code",
   "execution_count": 9,
   "metadata": {
    "colab": {},
    "colab_type": "code",
    "id": "s30oJ3RHbNue"
   },
   "outputs": [],
   "source": [
    "# load the model after 32 hours\n",
    "from tensorflow.keras.models import load_model\n",
    "extended_model = load_model(\"./Model/model5.hdf5\")"
   ]
  },
  {
   "cell_type": "code",
   "execution_count": 10,
   "metadata": {
    "colab": {
     "base_uri": "https://localhost:8080/",
     "height": 868
    },
    "colab_type": "code",
    "id": "VP9TbcZOlbog",
    "outputId": "a2d39777-90cb-420d-d56f-8b39d121d843"
   },
   "outputs": [
    {
     "name": "stderr",
     "output_type": "stream",
     "text": [
      "/home/ecbm4040/envTF24/lib/python3.6/site-packages/tensorflow/python/keras/engine/training.py:1844: UserWarning: `Model.fit_generator` is deprecated and will be removed in a future version. Please use `Model.fit`, which supports generators.\n",
      "  warnings.warn('`Model.fit_generator` is deprecated and '\n",
      "/home/ecbm4040/envTF24/lib/python3.6/site-packages/imgaug/imgaug.py:184: DeprecationWarning: Function `ContrastNormalization()` is deprecated. Use `imgaug.contrast.LinearContrast` instead.\n",
      "  warn_deprecated(msg, stacklevel=3)\n"
     ]
    },
    {
     "name": "stdout",
     "output_type": "stream",
     "text": [
      "Epoch 1/12\n",
      "782/782 [==============================] - 631s 792ms/step - loss: 2.6622 - accuracy: 0.5542 - val_loss: 2.5083 - val_accuracy: 0.5885\n",
      "\n",
      "Epoch 00001: val_accuracy improved from -inf to 0.58850, saving model to ./Model/model6.hdf5\n",
      "Epoch 2/12\n",
      "782/782 [==============================] - 620s 792ms/step - loss: 2.6558 - accuracy: 0.5546 - val_loss: 2.5056 - val_accuracy: 0.5894\n",
      "\n",
      "Epoch 00002: val_accuracy improved from 0.58850 to 0.58940, saving model to ./Model/model6.hdf5\n",
      "Epoch 3/12\n",
      "782/782 [==============================] - 620s 792ms/step - loss: 2.6559 - accuracy: 0.5556 - val_loss: 2.5048 - val_accuracy: 0.5890\n",
      "\n",
      "Epoch 00003: val_accuracy did not improve from 0.58940\n",
      "Epoch 4/12\n",
      "782/782 [==============================] - 620s 792ms/step - loss: 2.6535 - accuracy: 0.5559 - val_loss: 2.5033 - val_accuracy: 0.5911\n",
      "\n",
      "Epoch 00004: val_accuracy improved from 0.58940 to 0.59110, saving model to ./Model/model6.hdf5\n",
      "Epoch 5/12\n",
      "782/782 [==============================] - 620s 792ms/step - loss: 2.6508 - accuracy: 0.5561 - val_loss: 2.5027 - val_accuracy: 0.5905\n",
      "\n",
      "Epoch 00005: val_accuracy did not improve from 0.59110\n",
      "Epoch 6/12\n",
      "782/782 [==============================] - 619s 791ms/step - loss: 2.6502 - accuracy: 0.5578 - val_loss: 2.5026 - val_accuracy: 0.5913\n",
      "\n",
      "Epoch 00006: val_accuracy improved from 0.59110 to 0.59130, saving model to ./Model/model6.hdf5\n",
      "Epoch 7/12\n",
      "782/782 [==============================] - 619s 792ms/step - loss: 2.6504 - accuracy: 0.5558 - val_loss: 2.5014 - val_accuracy: 0.5912\n",
      "\n",
      "Epoch 00007: val_accuracy did not improve from 0.59130\n",
      "Epoch 8/12\n",
      "782/782 [==============================] - 618s 790ms/step - loss: 2.6431 - accuracy: 0.5588 - val_loss: 2.5012 - val_accuracy: 0.5915\n",
      "\n",
      "Epoch 00008: val_accuracy improved from 0.59130 to 0.59150, saving model to ./Model/model6.hdf5\n",
      "Epoch 9/12\n",
      "782/782 [==============================] - 620s 792ms/step - loss: 2.6453 - accuracy: 0.5572 - val_loss: 2.5011 - val_accuracy: 0.5915\n",
      "\n",
      "Epoch 00009: val_accuracy did not improve from 0.59150\n",
      "Epoch 10/12\n",
      "782/782 [==============================] - 621s 793ms/step - loss: 2.6429 - accuracy: 0.5581 - val_loss: 2.5006 - val_accuracy: 0.5913\n",
      "\n",
      "Epoch 00010: val_accuracy did not improve from 0.59150\n",
      "Epoch 11/12\n",
      "782/782 [==============================] - 620s 792ms/step - loss: 2.6468 - accuracy: 0.5568 - val_loss: 2.5005 - val_accuracy: 0.5910\n",
      "\n",
      "Epoch 00011: val_accuracy did not improve from 0.59150\n",
      "Epoch 12/12\n",
      "782/782 [==============================] - 619s 791ms/step - loss: 2.6439 - accuracy: 0.5569 - val_loss: 2.5001 - val_accuracy: 0.5917\n",
      "\n",
      "Epoch 00012: val_accuracy improved from 0.59150 to 0.59170, saving model to ./Model/model6.hdf5\n"
     ]
    }
   ],
   "source": [
    "# Callbacks\n",
    "import tensorflow_addons as tfa\n",
    "from tensorflow.keras.callbacks import Callback, ModelCheckpoint, LearningRateScheduler, TensorBoard, EarlyStopping, ReduceLROnPlateau\n",
    "\n",
    "steps_per_epoch= num_train // batch_size\n",
    "clr = tfa.optimizers.CyclicalLearningRate(initial_learning_rate=0.0000001, maximal_learning_rate=0.0000006, \n",
    "                                         scale_fn=lambda x: 1/(2.**(x-1)), step_size=2*steps_per_epoch) #Cyclic learning rate\n",
    "\n",
    "scheduler = tf.keras.callbacks.LearningRateScheduler(clr)\n",
    "early_stopping = EarlyStopping(patience = 5, monitor='val_loss', \n",
    "                               mode='min', restore_best_weights=True)\n",
    "\n",
    "\n",
    "checkpointer_6 = ModelCheckpoint(filepath=\"./Model/model6.hdf5\", verbose=1, save_best_only=True, monitor=\"val_accuracy\")\n",
    "# fit the model\n",
    "history6 = extended_model.fit_generator(train_generator,\n",
    "                             epochs=12,\n",
    "                             steps_per_epoch= np.ceil(num_train/batch_size),\n",
    "                             validation_steps= np.ceil(num_validation/batch_size),\n",
    "                             validation_data=validation_generator,\n",
    "                             verbose=1, callbacks=[scheduler, early_stopping, checkpointer_6]\n",
    "                             )"
   ]
  },
  {
   "cell_type": "code",
   "execution_count": 11,
   "metadata": {},
   "outputs": [
    {
     "data": {
      "text/plain": [
       "<matplotlib.legend.Legend at 0x7f7fa8364358>"
      ]
     },
     "execution_count": 11,
     "metadata": {},
     "output_type": "execute_result"
    },
    {
     "data": {
      "image/png": "[encoded data removed]",
      "text/plain": [
       "<Figure size 720x576 with 2 Axes>"
      ]
     },
     "metadata": {
      "needs_background": "light"
     },
     "output_type": "display_data"
    }
   ],
   "source": [
    "import matplotlib.pyplot as plt\n",
    "(fig, ax) = plt.subplots(2, 1, figsize=(10, 8))\n",
    "\n",
    "ax[0].plot(history6.history[\"loss\"], label=\"train_loss\")\n",
    "ax[0].plot(history6.history[\"val_loss\"], label=\"val_loss\")\n",
    "ax[0].legend()\n",
    "ax[1].plot(history6.history[\"accuracy\"], label= \"train_accuracy\")\n",
    "ax[1].plot(history6.history[\"val_accuracy\"], label=\"val_accuracy\")\n",
    "ax[1].legend()"
   ]
  },
  {
   "cell_type": "code",
   "execution_count": 12,
   "metadata": {},
   "outputs": [],
   "source": [
    "pd.DataFrame(history6.history).to_csv('./history/history_model6.csv')"
   ]
  },
  {
   "cell_type": "markdown",
   "metadata": {
    "colab_type": "text",
    "id": "xhS2U_LcEfJx"
   },
   "source": [
    "# Top Validation Accuracy : 59.17%"
   ]
  },
  {
   "cell_type": "markdown",
   "metadata": {},
   "source": [
    "# Results\n",
    "### The training and validation loss through the whole training"
   ]
  },
  {
   "cell_type": "code",
   "execution_count": 16,
   "metadata": {
    "colab": {},
    "colab_type": "code",
    "id": "Jp3Ux8MH_JDa"
   },
   "outputs": [
    {
     "data": {
      "text/plain": [
       "Text(0.5, 1.0, 'Loss per epochs')"
      ]
     },
     "execution_count": 16,
     "metadata": {},
     "output_type": "execute_result"
    },
    {
     "data": {
      "image/png": "[encoded data removed]",
      "text/plain": [
       "<Figure size 432x432 with 1 Axes>"
      ]
     },
     "metadata": {
      "needs_background": "light"
     },
     "output_type": "display_data"
    }
   ],
   "source": [
    "#Load the previous training record\n",
    "import pandas as pd\n",
    "history1 = pd.read_csv('./history/history_model1.csv')\n",
    "history2 = pd.read_csv('./history/history_model2.csv')\n",
    "history3 = pd.read_csv('./history/history_model3.csv')\n",
    "history4 = pd.read_csv('./history/history_model4.csv')\n",
    "history5 = pd.read_csv('./history/history_model5.csv')\n",
    "history6 = pd.read_csv('./history/history_model6.csv')\n",
    "\n",
    "history = history1.append([history2,history3, history4, history5, history6], ignore_index=True)\n",
    "history = history.drop(['Unnamed: 0'], axis=1)\n",
    "\n",
    "fig = plt.figure(num=1, figsize=(6,6))\n",
    "ax = fig.add_subplot(111)\n",
    "ax.plot(history['loss'], label='Training Loss')\n",
    "ax.plot(history['val_loss'], label='Validation Loss')\n",
    "ax.legend()\n",
    "ax.set_xlabel('Epoch')\n",
    "ax.set_ylabel('Loss')\n",
    "ax.set_title('Loss per epochs')"
   ]
  },
  {
   "cell_type": "markdown",
   "metadata": {},
   "source": [
    "### The total trend of loss for both training and validation are decreasing, there is a visible drop of validation loss in the start of second training circle.\n",
    "### Also, there is a slight increase of loss in the fifth round as we increased the base_lr and max_lr.\n",
    "### The training loss suffer lighter influence of changing lr than validation."
   ]
  },
  {
   "cell_type": "markdown",
   "metadata": {},
   "source": [
    "# Error Analysis"
   ]
  },
  {
   "cell_type": "code",
   "execution_count": 18,
   "metadata": {},
   "outputs": [],
   "source": [
    "from tensorflow.keras.models import load_model\n",
    "final_model = load_model('./Model/model6.hdf5')"
   ]
  },
  {
   "cell_type": "code",
   "execution_count": 22,
   "metadata": {},
   "outputs": [
    {
     "name": "stdout",
     "output_type": "stream",
     "text": [
      "79/79 [==============================] - 19s 235ms/step\n"
     ]
    }
   ],
   "source": [
    "pred=final_model.predict(validation_generator, steps= np.ceil(num_validation/batch_size), verbose=1)\n",
    "predicted_class_indices=np.argmax(pred,axis=1)"
   ]
  },
  {
   "cell_type": "code",
   "execution_count": 23,
   "metadata": {},
   "outputs": [
    {
     "data": {
      "text/plain": [
       "['n03444034',\n",
       " 'n01944390',\n",
       " 'n02948072',\n",
       " 'n02808440',\n",
       " 'n04507155',\n",
       " 'n04399382',\n",
       " 'n04179913',\n",
       " 'n02823428',\n",
       " 'n04146614',\n",
       " 'n02226429']"
      ]
     },
     "execution_count": 23,
     "metadata": {},
     "output_type": "execute_result"
    }
   ],
   "source": [
    "# Predicted classes from their indices\n",
    "labels = (validation_generator.class_indices)\n",
    "labels = dict((v,k) for k,v in labels.items())\n",
    "predictions = [labels[k] for k in predicted_class_indices]\n",
    "predictions[:10]"
   ]
  },
  {
   "cell_type": "code",
   "execution_count": 24,
   "metadata": {},
   "outputs": [],
   "source": [
    "import os\n",
    "class_to_name = dict()\n",
    "file = open('tiny-imagenet-200/words.txt','r')\n",
    "data= file.readlines()\n",
    "for line in data:\n",
    "  words = line.strip('\\n').split('\\t')\n",
    "  class_to_name[words[0]] = words[1].split(',')[0]\n",
    "file.close()"
   ]
  },
  {
   "cell_type": "code",
   "execution_count": 25,
   "metadata": {},
   "outputs": [],
   "source": [
    "# Asserting Validation Class names from words.txt\n",
    "validation_class_names={}\n",
    "for _class in validation_generator.class_indices.keys():\n",
    "  validation_class_names.update({_class : class_to_name[_class]})"
   ]
  },
  {
   "cell_type": "code",
   "execution_count": 39,
   "metadata": {},
   "outputs": [
    {
     "name": "stdout",
     "output_type": "stream",
     "text": [
      "                          precision    recall  f1-score   support\n",
      "\n",
      "                goldfish     0.8000    0.8800    0.8381        50\n",
      "European fire salamander     0.8542    0.8200    0.8367        50\n",
      "                bullfrog     0.5769    0.6000    0.5882        50\n",
      "             tailed frog     0.6279    0.5400    0.5806        50\n",
      "      American alligator     0.5385    0.5600    0.5490        50\n",
      "         boa constrictor     0.4528    0.4800    0.4660        50\n",
      "               trilobite     0.6875    0.8800    0.7719        50\n",
      "                scorpion     0.6923    0.5400    0.6067        50\n",
      "             black widow     0.7321    0.8200    0.7736        50\n",
      "               tarantula     0.5909    0.5200    0.5532        50\n",
      "               centipede     0.7045    0.6200    0.6596        50\n",
      "                   goose     0.5690    0.6600    0.6111        50\n",
      "                   koala     0.7222    0.7800    0.7500        50\n",
      "               jellyfish     0.7885    0.8200    0.8039        50\n",
      "             brain coral     0.6923    0.7200    0.7059        50\n",
      "                   snail     0.5091    0.5600    0.5333        50\n",
      "                    slug     0.5000    0.3800    0.4318        50\n",
      "                sea slug     0.7800    0.7800    0.7800        50\n",
      "        American lobster     0.5577    0.5800    0.5686        50\n",
      "           spiny lobster     0.6379    0.7400    0.6852        50\n",
      "             black stork     0.7455    0.8200    0.7810        50\n",
      "            king penguin     0.8333    0.7000    0.7609        50\n",
      "               albatross     0.7400    0.7400    0.7400        50\n",
      "                  dugong     0.8246    0.9400    0.8785        50\n",
      "               Chihuahua     0.4375    0.4200    0.4286        50\n",
      "       Yorkshire terrier     0.8000    0.8000    0.8000        50\n",
      "        golden retriever     0.5510    0.5400    0.5455        50\n",
      "      Labrador retriever     0.4146    0.3400    0.3736        50\n",
      "         German shepherd     0.6087    0.5600    0.5833        50\n",
      "         standard poodle     0.3404    0.3200    0.3299        50\n",
      "                   tabby     0.4792    0.4600    0.4694        50\n",
      "             Persian cat     0.7045    0.6200    0.6596        50\n",
      "            Egyptian cat     0.3830    0.3600    0.3711        50\n",
      "                  cougar     0.5556    0.5000    0.5263        50\n",
      "                    lion     0.7059    0.7200    0.7129        50\n",
      "              brown bear     0.5455    0.7200    0.6207        50\n",
      "                 ladybug     0.8077    0.8400    0.8235        50\n",
      "                     fly     0.5926    0.6400    0.6154        50\n",
      "                     bee     0.7500    0.7200    0.7347        50\n",
      "             grasshopper     0.5690    0.6600    0.6111        50\n",
      "           walking stick     0.5238    0.4400    0.4783        50\n",
      "               cockroach     0.5750    0.4600    0.5111        50\n",
      "                  mantis     0.6078    0.6200    0.6139        50\n",
      "               dragonfly     0.5714    0.5600    0.5657        50\n",
      "                 monarch     0.8846    0.9200    0.9020        50\n",
      "       sulphur butterfly     0.7818    0.8600    0.8190        50\n",
      "            sea cucumber     0.5536    0.6200    0.5849        50\n",
      "              guinea pig     0.6957    0.6400    0.6667        50\n",
      "                     hog     0.3684    0.2800    0.3182        50\n",
      "                      ox     0.4500    0.3600    0.4000        50\n",
      "                   bison     0.7143    0.7000    0.7071        50\n",
      "                 bighorn     0.5294    0.5400    0.5347        50\n",
      "                 gazelle     0.7755    0.7600    0.7677        50\n",
      "           Arabian camel     0.6600    0.6600    0.6600        50\n",
      "               orangutan     0.7234    0.6800    0.7010        50\n",
      "              chimpanzee     0.6607    0.7400    0.6981        50\n",
      "                  baboon     0.6757    0.5000    0.5747        50\n",
      "        African elephant     0.6000    0.7200    0.6545        50\n",
      "            lesser panda     0.9111    0.8200    0.8632        50\n",
      "                  abacus     0.6579    0.5000    0.5682        50\n",
      "           academic gown     0.6271    0.7400    0.6789        50\n",
      "                   altar     0.5714    0.7200    0.6372        50\n",
      "                   apron     0.3529    0.3600    0.3564        50\n",
      "                backpack     0.4638    0.6400    0.5378        50\n",
      "               bannister     0.3273    0.3600    0.3429        50\n",
      "              barbershop     0.4000    0.4000    0.4000        50\n",
      "                    barn     0.5893    0.6600    0.6226        50\n",
      "                  barrel     0.4423    0.4600    0.4510        50\n",
      "              basketball     0.5789    0.6600    0.6168        50\n",
      "                 bathtub     0.4545    0.5000    0.4762        50\n",
      "             beach wagon     0.6200    0.6200    0.6200        50\n",
      "                  beacon     0.7200    0.7200    0.7200        50\n",
      "                  beaker     0.6042    0.5800    0.5918        50\n",
      "             beer bottle     0.4407    0.5200    0.4771        50\n",
      "                  bikini     0.7317    0.6000    0.6593        50\n",
      "              binoculars     0.4545    0.5000    0.4762        50\n",
      "               birdhouse     0.5625    0.5400    0.5510        50\n",
      "                 bow tie     0.3265    0.3200    0.3232        50\n",
      "                   brass     0.6909    0.7600    0.7238        50\n",
      "                   broom     0.3958    0.3800    0.3878        50\n",
      "                  bucket     0.2791    0.2400    0.2581        50\n",
      "            bullet train     0.8182    0.9000    0.8571        50\n",
      "            butcher shop     0.7333    0.6600    0.6947        50\n",
      "                  candle     0.5250    0.4200    0.4667        50\n",
      "                  cannon     0.5682    0.5000    0.5319        50\n",
      "                cardigan     0.5192    0.5400    0.5294        50\n",
      "            cash machine     0.6250    0.5000    0.5556        50\n",
      "               CD player     0.5185    0.5600    0.5385        50\n",
      "                   chain     0.4651    0.4000    0.4301        50\n",
      "                   chest     0.4516    0.5600    0.5000        50\n",
      "      Christmas stocking     0.6140    0.7000    0.6542        50\n",
      "          cliff dwelling     0.6667    0.7200    0.6923        50\n",
      "       computer keyboard     0.6585    0.5400    0.5934        50\n",
      "           confectionery     0.7111    0.6400    0.6737        50\n",
      "             convertible     0.5000    0.5000    0.5000        50\n",
      "                   crane     0.6410    0.5000    0.5618        50\n",
      "                     dam     0.6429    0.5400    0.5870        50\n",
      "                    desk     0.6400    0.6400    0.6400        50\n",
      "            dining table     0.6491    0.7400    0.6916        50\n",
      "               drumstick     0.3810    0.3200    0.3478        50\n",
      "                dumbbell     0.3621    0.4200    0.3889        50\n",
      "                flagpole     0.6939    0.6800    0.6869        50\n",
      "                fountain     0.5192    0.5400    0.5294        50\n",
      "             freight car     0.7843    0.8000    0.7921        50\n",
      "              frying pan     0.5106    0.4800    0.4948        50\n",
      "                fur coat     0.4118    0.4200    0.4158        50\n",
      "                 gasmask     0.3958    0.3800    0.3878        50\n",
      "                 go-kart     0.6786    0.7600    0.7170        50\n",
      "                 gondola     0.7679    0.8600    0.8113        50\n",
      "               hourglass     0.6818    0.6000    0.6383        50\n",
      "                    iPod     0.5893    0.6600    0.6226        50\n",
      "              jinrikisha     0.6875    0.6600    0.6735        50\n",
      "                  kimono     0.4651    0.4000    0.4301        50\n",
      "               lampshade     0.3836    0.5600    0.4553        50\n",
      "              lawn mower     0.5581    0.4800    0.5161        50\n",
      "                lifeboat     0.8864    0.7800    0.8298        50\n",
      "               limousine     0.5556    0.5000    0.5263        50\n",
      "        magnetic compass     0.5741    0.6200    0.5962        50\n",
      "                 maypole     0.6792    0.7200    0.6990        50\n",
      "        military uniform     0.4074    0.4400    0.4231        50\n",
      "               miniskirt     0.3922    0.4000    0.3960        50\n",
      "              moving van     0.6939    0.6800    0.6869        50\n",
      "                    nail     0.4706    0.3200    0.3810        50\n",
      "              neck brace     0.3684    0.4200    0.3925        50\n",
      "                 obelisk     0.7547    0.8000    0.7767        50\n",
      "                    oboe     0.4000    0.4800    0.4364        50\n",
      "                   organ     0.6111    0.6600    0.6346        50\n",
      "           parking meter     0.5926    0.6400    0.6154        50\n",
      "               pay-phone     0.4348    0.6000    0.5042        50\n",
      "            picket fence     0.6346    0.6600    0.6471        50\n",
      "             pill bottle     0.5870    0.5400    0.5625        50\n",
      "                 plunger     0.2308    0.1800    0.2022        50\n",
      "                    pole     0.2500    0.1800    0.2093        50\n",
      "              police van     0.8043    0.7400    0.7708        50\n",
      "                  poncho     0.4918    0.6000    0.5405        50\n",
      "              pop bottle     0.4333    0.2600    0.3250        50\n",
      "          potter's wheel     0.4688    0.6000    0.5263        50\n",
      "              projectile     0.5667    0.3400    0.4250        50\n",
      "            punching bag     0.3061    0.3000    0.3030        50\n",
      "                    reel     0.3714    0.2600    0.3059        50\n",
      "            refrigerator     0.5200    0.5200    0.5200        50\n",
      "          remote control     0.7222    0.5200    0.6047        50\n",
      "           rocking chair     0.5652    0.5200    0.5417        50\n",
      "              rugby ball     0.8600    0.8600    0.8600        50\n",
      "                  sandal     0.5079    0.6400    0.5664        50\n",
      "              school bus     0.7015    0.9400    0.8034        50\n",
      "              scoreboard     0.7647    0.7800    0.7723        50\n",
      "          sewing machine     0.5217    0.4800    0.5000        50\n",
      "                 snorkel     0.6071    0.6800    0.6415        50\n",
      "                    sock     0.6000    0.7200    0.6545        50\n",
      "                sombrero     0.5833    0.5600    0.5714        50\n",
      "            space heater     0.4167    0.5000    0.4545        50\n",
      "              spider web     0.6207    0.7200    0.6667        50\n",
      "              sports car     0.6481    0.7000    0.6731        50\n",
      "       steel arch bridge     0.6458    0.6200    0.6327        50\n",
      "               stopwatch     0.6400    0.6400    0.6400        50\n",
      "              sunglasses     0.5102    0.5000    0.5051        50\n",
      "       suspension bridge     0.4697    0.6200    0.5345        50\n",
      "         swimming trunks     0.4722    0.3400    0.3953        50\n",
      "                 syringe     0.3750    0.1800    0.2432        50\n",
      "                  teapot     0.3871    0.4800    0.4286        50\n",
      "                   teddy     0.6296    0.6800    0.6538        50\n",
      "                  thatch     0.6889    0.6200    0.6526        50\n",
      "                   torch     0.6042    0.5800    0.5918        50\n",
      "                 tractor     0.5636    0.6200    0.5905        50\n",
      "          triumphal arch     0.8235    0.8400    0.8317        50\n",
      "              trolleybus     0.8269    0.8600    0.8431        50\n",
      "               turnstile     0.5476    0.4600    0.5000        50\n",
      "                umbrella     0.3125    0.2000    0.2439        50\n",
      "                vestment     0.6200    0.6200    0.6200        50\n",
      "                 viaduct     0.7451    0.7600    0.7525        50\n",
      "              volleyball     0.6863    0.7000    0.6931        50\n",
      "               water jug     0.5333    0.3200    0.4000        50\n",
      "             water tower     0.8077    0.8400    0.8235        50\n",
      "                     wok     0.5000    0.5200    0.5098        50\n",
      "            wooden spoon     0.2400    0.1200    0.1600        50\n",
      "              comic book     0.8200    0.8200    0.8200        50\n",
      "                   plate     0.4211    0.4800    0.4486        50\n",
      "               guacamole     0.7755    0.7600    0.7677        50\n",
      "               ice cream     0.4231    0.4400    0.4314        50\n",
      "               ice lolly     0.3500    0.2800    0.3111        50\n",
      "                 pretzel     0.6977    0.6000    0.6452        50\n",
      "           mashed potato     0.6923    0.5400    0.6067        50\n",
      "             cauliflower     0.7234    0.6800    0.7010        50\n",
      "             bell pepper     0.7636    0.8400    0.8000        50\n",
      "                mushroom     0.7292    0.7000    0.7143        50\n",
      "                  orange     0.6346    0.6600    0.6471        50\n",
      "                   lemon     0.6383    0.6000    0.6186        50\n",
      "                  banana     0.5818    0.6400    0.6095        50\n",
      "             pomegranate     0.7800    0.7800    0.7800        50\n",
      "               meat loaf     0.5283    0.5600    0.5437        50\n",
      "                   pizza     0.7222    0.7800    0.7500        50\n",
      "                  potpie     0.6000    0.6600    0.6286        50\n",
      "                espresso     0.6364    0.8400    0.7241        50\n",
      "                     alp     0.6500    0.7800    0.7091        50\n",
      "                   cliff     0.5614    0.6400    0.5981        50\n",
      "              coral reef     0.6182    0.6800    0.6476        50\n",
      "                lakeside     0.4468    0.4200    0.4330        50\n",
      "                seashore     0.4627    0.6200    0.5299        50\n",
      "                   acorn     0.6889    0.6200    0.6526        50\n",
      "\n",
      "                accuracy                         0.5917     10000\n",
      "               macro avg     0.5898    0.5917    0.5874     10000\n",
      "            weighted avg     0.5898    0.5917    0.5874     10000\n",
      "\n"
     ]
    }
   ],
   "source": [
    "# Classification Report of val classes\n",
    "from sklearn.metrics import confusion_matrix, classification_report\n",
    "\n",
    "pred_result = classification_report(validation_generator.classes, predicted_class_indices,\n",
    "                            #target_names=validation_generator.class_indices.keys(),\n",
    "                            target_names=validation_class_names.values(),\n",
    "                            digits=4)\n",
    "print(pred_result)"
   ]
  },
  {
   "cell_type": "markdown",
   "metadata": {},
   "source": [
    "### Sort the precision and find classes with top 5 errors made by the final model."
   ]
  },
  {
   "cell_type": "code",
   "execution_count": 56,
   "metadata": {},
   "outputs": [
    {
     "data": {
      "text/plain": [
       "array([0.8       , 0.85416667, 0.57692308, 0.62790698, 0.53846154])"
      ]
     },
     "execution_count": 56,
     "metadata": {},
     "output_type": "execute_result"
    }
   ],
   "source": [
    "cf = confusion_matrix(validation_generator.classes, predicted_class_indices) \n",
    "precision = (cf / np.sum(cf, axis=0)).diagonal()\n",
    "precision[:5]"
   ]
  },
  {
   "cell_type": "code",
   "execution_count": 58,
   "metadata": {},
   "outputs": [
    {
     "data": {
      "text/html": [
       "<div>\n",
       "<style scoped>\n",
       "    .dataframe tbody tr th:only-of-type {\n",
       "        vertical-align: middle;\n",
       "    }\n",
       "\n",
       "    .dataframe tbody tr th {\n",
       "        vertical-align: top;\n",
       "    }\n",
       "\n",
       "    .dataframe thead th {\n",
       "        text-align: right;\n",
       "    }\n",
       "</style>\n",
       "<table border=\"1\" class=\"dataframe\">\n",
       "  <thead>\n",
       "    <tr style=\"text-align: right;\">\n",
       "      <th></th>\n",
       "      <th>class</th>\n",
       "      <th>precision</th>\n",
       "    </tr>\n",
       "  </thead>\n",
       "  <tbody>\n",
       "    <tr>\n",
       "      <th>n03970156</th>\n",
       "      <td>plunger</td>\n",
       "      <td>0.230769</td>\n",
       "    </tr>\n",
       "    <tr>\n",
       "      <th>n04597913</th>\n",
       "      <td>wooden spoon</td>\n",
       "      <td>0.240000</td>\n",
       "    </tr>\n",
       "    <tr>\n",
       "      <th>n03976657</th>\n",
       "      <td>pole</td>\n",
       "      <td>0.250000</td>\n",
       "    </tr>\n",
       "    <tr>\n",
       "      <th>n02909870</th>\n",
       "      <td>bucket</td>\n",
       "      <td>0.279070</td>\n",
       "    </tr>\n",
       "    <tr>\n",
       "      <th>n04023962</th>\n",
       "      <td>punching bag</td>\n",
       "      <td>0.306122</td>\n",
       "    </tr>\n",
       "    <tr>\n",
       "      <th>...</th>\n",
       "      <td>...</td>\n",
       "      <td>...</td>\n",
       "    </tr>\n",
       "    <tr>\n",
       "      <th>n01629819</th>\n",
       "      <td>European fire salamander</td>\n",
       "      <td>0.854167</td>\n",
       "    </tr>\n",
       "    <tr>\n",
       "      <th>n04118538</th>\n",
       "      <td>rugby ball</td>\n",
       "      <td>0.860000</td>\n",
       "    </tr>\n",
       "    <tr>\n",
       "      <th>n02279972</th>\n",
       "      <td>monarch</td>\n",
       "      <td>0.884615</td>\n",
       "    </tr>\n",
       "    <tr>\n",
       "      <th>n03662601</th>\n",
       "      <td>lifeboat</td>\n",
       "      <td>0.886364</td>\n",
       "    </tr>\n",
       "    <tr>\n",
       "      <th>n02509815</th>\n",
       "      <td>lesser panda</td>\n",
       "      <td>0.911111</td>\n",
       "    </tr>\n",
       "  </tbody>\n",
       "</table>\n",
       "<p>200 rows × 2 columns</p>\n",
       "</div>"
      ],
      "text/plain": [
       "                              class  precision\n",
       "n03970156                   plunger   0.230769\n",
       "n04597913              wooden spoon   0.240000\n",
       "n03976657                      pole   0.250000\n",
       "n02909870                    bucket   0.279070\n",
       "n04023962              punching bag   0.306122\n",
       "...                             ...        ...\n",
       "n01629819  European fire salamander   0.854167\n",
       "n04118538                rugby ball   0.860000\n",
       "n02279972                   monarch   0.884615\n",
       "n03662601                  lifeboat   0.886364\n",
       "n02509815              lesser panda   0.911111\n",
       "\n",
       "[200 rows x 2 columns]"
      ]
     },
     "execution_count": 58,
     "metadata": {},
     "output_type": "execute_result"
    }
   ],
   "source": [
    "prec = pd.DataFrame.from_dict(validation_class_names, orient='index', columns=['class'])\n",
    "prec['precision'] = precision\n",
    "prec.sort_values(['precision'])"
   ]
  },
  {
   "cell_type": "markdown",
   "metadata": {},
   "source": [
    "### Get top-5 errors class: plunger, wooden spoon, pole, bucket and punching bag.\n",
    "So, we take a look at the plunger class."
   ]
  },
  {
   "cell_type": "code",
   "execution_count": 101,
   "metadata": {},
   "outputs": [
    {
     "name": "stdout",
     "output_type": "stream",
     "text": [
      "Found 50 validated image filenames belonging to 1 classes.\n"
     ]
    },
    {
     "data": {
      "text/html": [
       "<div>\n",
       "<style scoped>\n",
       "    .dataframe tbody tr th:only-of-type {\n",
       "        vertical-align: middle;\n",
       "    }\n",
       "\n",
       "    .dataframe tbody tr th {\n",
       "        vertical-align: top;\n",
       "    }\n",
       "\n",
       "    .dataframe thead th {\n",
       "        text-align: right;\n",
       "    }\n",
       "</style>\n",
       "<table border=\"1\" class=\"dataframe\">\n",
       "  <thead>\n",
       "    <tr style=\"text-align: right;\">\n",
       "      <th></th>\n",
       "      <th>File</th>\n",
       "      <th>Class</th>\n",
       "    </tr>\n",
       "  </thead>\n",
       "  <tbody>\n",
       "    <tr>\n",
       "      <th>71</th>\n",
       "      <td>val_71.JPEG</td>\n",
       "      <td>n03970156</td>\n",
       "    </tr>\n",
       "    <tr>\n",
       "      <th>119</th>\n",
       "      <td>val_119.JPEG</td>\n",
       "      <td>n03970156</td>\n",
       "    </tr>\n",
       "    <tr>\n",
       "      <th>137</th>\n",
       "      <td>val_137.JPEG</td>\n",
       "      <td>n03970156</td>\n",
       "    </tr>\n",
       "    <tr>\n",
       "      <th>169</th>\n",
       "      <td>val_169.JPEG</td>\n",
       "      <td>n03970156</td>\n",
       "    </tr>\n",
       "    <tr>\n",
       "      <th>195</th>\n",
       "      <td>val_195.JPEG</td>\n",
       "      <td>n03970156</td>\n",
       "    </tr>\n",
       "  </tbody>\n",
       "</table>\n",
       "</div>"
      ],
      "text/plain": [
       "             File      Class\n",
       "71    val_71.JPEG  n03970156\n",
       "119  val_119.JPEG  n03970156\n",
       "137  val_137.JPEG  n03970156\n",
       "169  val_169.JPEG  n03970156\n",
       "195  val_195.JPEG  n03970156"
      ]
     },
     "execution_count": 101,
     "metadata": {},
     "output_type": "execute_result"
    }
   ],
   "source": [
    "plunger = val_data[val_data['Class'] == 'n03970156']\n",
    "plunger_datagen = ImageDataGenerator(rescale=1/255.)\n",
    "plunger_generator = plunger_datagen.flow_from_dataframe(plunger,directory='./tiny-imagenet-200/val/images/', \n",
    "                                                         x_col='File', y_col='Class', \n",
    "                                                         target_size=(img_width, img_height),\n",
    "                                                         class_mode='categorical', \n",
    "                                                         batch_size=batch_size, \n",
    "                                                         shuffle=False, seed=101)\n",
    "plunger.head()"
   ]
  },
  {
   "cell_type": "code",
   "execution_count": 102,
   "metadata": {},
   "outputs": [
    {
     "data": {
      "text/plain": [
       "['gasmask',\n",
       " 'plunger',\n",
       " 'space heater',\n",
       " 'projectile',\n",
       " 'gasmask',\n",
       " 'plunger',\n",
       " \"potter's wheel\",\n",
       " 'space heater',\n",
       " 'parking meter',\n",
       " 'plunger']"
      ]
     },
     "execution_count": 102,
     "metadata": {},
     "output_type": "execute_result"
    }
   ],
   "source": [
    "plunger_pred = final_model.predict(plunger_generator)\n",
    "plunger_class = np.argmax(plunger_pred, axis=1)\n",
    "plunger_predictions = [validation_class_names[labels[k]] for k in plunger_class]\n",
    "plunger_predictions[:10]"
   ]
  },
  {
   "cell_type": "markdown",
   "metadata": {},
   "source": [
    "For the first 10 pictures, only 3 are correctly predicted.\n",
    "### Visualize first 8 images."
   ]
  },
  {
   "cell_type": "code",
   "execution_count": 113,
   "metadata": {},
   "outputs": [
    {
     "data": {
      "image/png": "[encoded data removed]",
      "text/plain": [
       "<Figure size 1008x360 with 8 Axes>"
      ]
     },
     "metadata": {
      "needs_background": "light"
     },
     "output_type": "display_data"
    }
   ],
   "source": [
    "fig = plt.figure(figsize=(14, 5))\n",
    "\n",
    "for i in range(8):\n",
    "    sub = fig.add_subplot(2, 4, i+1)\n",
    "    sub.imshow(plunger_generator[0][0][i,:,:])\n",
    "    sub.set_title('Predict label : %s' %plunger_predictions[i])\n",
    "\n",
    "fig.subplots_adjust(hspace=0.5)"
   ]
  },
  {
   "cell_type": "markdown",
   "metadata": {},
   "source": [
    "#### We can see there are some misunderstanding in the intent of image."
   ]
  }
 ],
 "metadata": {
  "accelerator": "GPU",
  "colab": {
   "collapsed_sections": [],
   "include_colab_link": true,
   "name": "Assignment_4.ipynb",
   "provenance": [],
   "version": "0.3.2"
  },
  "kernelspec": {
   "display_name": "Python 3",
   "language": "python",
   "name": "python3"
  },
  "language_info": {
   "codemirror_mode": {
    "name": "ipython",
    "version": 3
   },
   "file_extension": ".py",
   "mimetype": "text/x-python",
   "name": "python",
   "nbconvert_exporter": "python",
   "pygments_lexer": "ipython3",
   "version": "3.6.9"
  }
 },
 "nbformat": 4,
 "nbformat_minor": 1
}
